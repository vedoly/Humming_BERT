{
 "metadata": {
  "language_info": {
   "codemirror_mode": {
    "name": "ipython",
    "version": 3
   },
   "file_extension": ".py",
   "mimetype": "text/x-python",
   "name": "python",
   "nbconvert_exporter": "python",
   "pygments_lexer": "ipython3",
   "version": "3.6.13"
  },
  "orig_nbformat": 2,
  "kernelspec": {
   "name": "python3613jvsc74a57bd09bec86a6742ae93e5d5f666e54787d45eaa9b173a7f1f240d921c4e277c045e2",
   "display_name": "Python 3.6.13 64-bit ('flask_retro': conda)"
  }
 },
 "nbformat": 4,
 "nbformat_minor": 2,
 "cells": [
  {
   "cell_type": "code",
   "execution_count": 2,
   "metadata": {},
   "outputs": [
    {
     "output_type": "stream",
     "name": "stdout",
     "text": [
      "Requirement already satisfied: pip in /Users/velody/miniconda3/envs/musicautobot2/lib/python3.9/site-packages (21.1.2)\n",
      "Requirement already satisfied: OpenNMT-py in /Users/velody/miniconda3/envs/musicautobot2/lib/python3.9/site-packages (1.2.0)\n",
      "Requirement already satisfied: future in /Users/velody/miniconda3/envs/musicautobot2/lib/python3.9/site-packages (from OpenNMT-py) (0.18.2)\n",
      "Requirement already satisfied: tqdm in /Users/velody/miniconda3/envs/musicautobot2/lib/python3.9/site-packages (from OpenNMT-py) (4.59.0)\n",
      "Requirement already satisfied: six in /Users/velody/miniconda3/envs/musicautobot2/lib/python3.9/site-packages (from OpenNMT-py) (1.15.0)\n",
      "Requirement already satisfied: pyyaml in /Users/velody/miniconda3/envs/musicautobot2/lib/python3.9/site-packages (from OpenNMT-py) (5.4.1)\n",
      "Requirement already satisfied: flask in /Users/velody/miniconda3/envs/musicautobot2/lib/python3.9/site-packages (from OpenNMT-py) (2.0.1)\n",
      "Requirement already satisfied: torchtext==0.4.0 in /Users/velody/miniconda3/envs/musicautobot2/lib/python3.9/site-packages (from OpenNMT-py) (0.4.0)\n",
      "Requirement already satisfied: torch>=1.6.0 in /Users/velody/miniconda3/envs/musicautobot2/lib/python3.9/site-packages (from OpenNMT-py) (1.8.1)\n",
      "Requirement already satisfied: tensorboard>=1.14 in /Users/velody/miniconda3/envs/musicautobot2/lib/python3.9/site-packages (from OpenNMT-py) (2.5.0)\n",
      "Requirement already satisfied: waitress in /Users/velody/miniconda3/envs/musicautobot2/lib/python3.9/site-packages (from OpenNMT-py) (2.0.0)\n",
      "Requirement already satisfied: configargparse in /Users/velody/miniconda3/envs/musicautobot2/lib/python3.9/site-packages (from OpenNMT-py) (1.4.1)\n",
      "Requirement already satisfied: requests in /Users/velody/miniconda3/envs/musicautobot2/lib/python3.9/site-packages (from torchtext==0.4.0->OpenNMT-py) (2.25.1)\n",
      "Requirement already satisfied: numpy in /Users/velody/miniconda3/envs/musicautobot2/lib/python3.9/site-packages (from torchtext==0.4.0->OpenNMT-py) (1.20.2)\n",
      "Requirement already satisfied: grpcio>=1.24.3 in /Users/velody/miniconda3/envs/musicautobot2/lib/python3.9/site-packages (from tensorboard>=1.14->OpenNMT-py) (1.38.0)\n",
      "Requirement already satisfied: setuptools>=41.0.0 in /Users/velody/miniconda3/envs/musicautobot2/lib/python3.9/site-packages (from tensorboard>=1.14->OpenNMT-py) (52.0.0.post20210125)\n",
      "Requirement already satisfied: wheel>=0.26 in /Users/velody/miniconda3/envs/musicautobot2/lib/python3.9/site-packages (from tensorboard>=1.14->OpenNMT-py) (0.36.2)\n",
      "Requirement already satisfied: tensorboard-plugin-wit>=1.6.0 in /Users/velody/miniconda3/envs/musicautobot2/lib/python3.9/site-packages (from tensorboard>=1.14->OpenNMT-py) (1.8.0)\n",
      "Requirement already satisfied: tensorboard-data-server<0.7.0,>=0.6.0 in /Users/velody/miniconda3/envs/musicautobot2/lib/python3.9/site-packages (from tensorboard>=1.14->OpenNMT-py) (0.6.1)\n",
      "Requirement already satisfied: absl-py>=0.4 in /Users/velody/miniconda3/envs/musicautobot2/lib/python3.9/site-packages (from tensorboard>=1.14->OpenNMT-py) (0.12.0)\n",
      "Requirement already satisfied: protobuf>=3.6.0 in /Users/velody/miniconda3/envs/musicautobot2/lib/python3.9/site-packages (from tensorboard>=1.14->OpenNMT-py) (3.17.0)\n",
      "Requirement already satisfied: google-auth<2,>=1.6.3 in /Users/velody/miniconda3/envs/musicautobot2/lib/python3.9/site-packages (from tensorboard>=1.14->OpenNMT-py) (1.30.0)\n",
      "Requirement already satisfied: google-auth-oauthlib<0.5,>=0.4.1 in /Users/velody/miniconda3/envs/musicautobot2/lib/python3.9/site-packages (from tensorboard>=1.14->OpenNMT-py) (0.4.4)\n",
      "Requirement already satisfied: werkzeug>=0.11.15 in /Users/velody/miniconda3/envs/musicautobot2/lib/python3.9/site-packages (from tensorboard>=1.14->OpenNMT-py) (2.0.1)\n",
      "Requirement already satisfied: markdown>=2.6.8 in /Users/velody/miniconda3/envs/musicautobot2/lib/python3.9/site-packages (from tensorboard>=1.14->OpenNMT-py) (3.3.4)\n",
      "Requirement already satisfied: cachetools<5.0,>=2.0.0 in /Users/velody/miniconda3/envs/musicautobot2/lib/python3.9/site-packages (from google-auth<2,>=1.6.3->tensorboard>=1.14->OpenNMT-py) (4.2.2)\n",
      "Requirement already satisfied: pyasn1-modules>=0.2.1 in /Users/velody/miniconda3/envs/musicautobot2/lib/python3.9/site-packages (from google-auth<2,>=1.6.3->tensorboard>=1.14->OpenNMT-py) (0.2.8)\n",
      "Requirement already satisfied: rsa<5,>=3.1.4 in /Users/velody/miniconda3/envs/musicautobot2/lib/python3.9/site-packages (from google-auth<2,>=1.6.3->tensorboard>=1.14->OpenNMT-py) (4.7.2)\n",
      "Requirement already satisfied: requests-oauthlib>=0.7.0 in /Users/velody/miniconda3/envs/musicautobot2/lib/python3.9/site-packages (from google-auth-oauthlib<0.5,>=0.4.1->tensorboard>=1.14->OpenNMT-py) (1.3.0)\n",
      "Requirement already satisfied: pyasn1<0.5.0,>=0.4.6 in /Users/velody/miniconda3/envs/musicautobot2/lib/python3.9/site-packages (from pyasn1-modules>=0.2.1->google-auth<2,>=1.6.3->tensorboard>=1.14->OpenNMT-py) (0.4.8)\n",
      "Requirement already satisfied: certifi>=2017.4.17 in /Users/velody/miniconda3/envs/musicautobot2/lib/python3.9/site-packages (from requests->torchtext==0.4.0->OpenNMT-py) (2020.12.5)\n",
      "Requirement already satisfied: idna<3,>=2.5 in /Users/velody/miniconda3/envs/musicautobot2/lib/python3.9/site-packages (from requests->torchtext==0.4.0->OpenNMT-py) (2.10)\n",
      "Requirement already satisfied: urllib3<1.27,>=1.21.1 in /Users/velody/miniconda3/envs/musicautobot2/lib/python3.9/site-packages (from requests->torchtext==0.4.0->OpenNMT-py) (1.26.4)\n",
      "Requirement already satisfied: chardet<5,>=3.0.2 in /Users/velody/miniconda3/envs/musicautobot2/lib/python3.9/site-packages (from requests->torchtext==0.4.0->OpenNMT-py) (4.0.0)\n",
      "Requirement already satisfied: oauthlib>=3.0.0 in /Users/velody/miniconda3/envs/musicautobot2/lib/python3.9/site-packages (from requests-oauthlib>=0.7.0->google-auth-oauthlib<0.5,>=0.4.1->tensorboard>=1.14->OpenNMT-py) (3.1.0)\n",
      "Requirement already satisfied: typing_extensions in /Users/velody/miniconda3/envs/musicautobot2/lib/python3.9/site-packages (from torch>=1.6.0->OpenNMT-py) (3.7.4.3)\n",
      "Requirement already satisfied: Jinja2>=3.0 in /Users/velody/miniconda3/envs/musicautobot2/lib/python3.9/site-packages (from flask->OpenNMT-py) (3.0.0)\n",
      "Requirement already satisfied: click>=7.1.2 in /Users/velody/miniconda3/envs/musicautobot2/lib/python3.9/site-packages (from flask->OpenNMT-py) (8.0.1)\n",
      "Requirement already satisfied: itsdangerous>=2.0 in /Users/velody/miniconda3/envs/musicautobot2/lib/python3.9/site-packages (from flask->OpenNMT-py) (2.0.1)\n",
      "Requirement already satisfied: MarkupSafe>=2.0.0rc2 in /Users/velody/miniconda3/envs/musicautobot2/lib/python3.9/site-packages (from Jinja2>=3.0->flask->OpenNMT-py) (2.0.1)\n"
     ]
    }
   ],
   "source": [
    "!pip install --upgrade pip\n",
    "!pip install OpenNMT-py"
   ]
  },
  {
   "cell_type": "code",
   "execution_count": 1,
   "metadata": {},
   "outputs": [
    {
     "output_type": "stream",
     "name": "stdout",
     "text": [
      "Traceback (most recent call last):\n  File \"/Users/velody/miniconda3/envs/musicautobot2/bin/onmt_translate\", line 8, in <module>\n    sys.exit(main())\n  File \"/Users/velody/miniconda3/envs/musicautobot2/lib/python3.9/site-packages/onmt/bin/translate.py\", line 48, in main\n    translate(opt)\n  File \"/Users/velody/miniconda3/envs/musicautobot2/lib/python3.9/site-packages/onmt/bin/translate.py\", line 18, in translate\n    translator = build_translator(opt, logger=logger, report_score=True)\n  File \"/Users/velody/miniconda3/envs/musicautobot2/lib/python3.9/site-packages/onmt/translate/translator.py\", line 28, in build_translator\n    fields, model, model_opt = load_test_model(opt)\n  File \"/Users/velody/miniconda3/envs/musicautobot2/lib/python3.9/site-packages/onmt/model_builder.py\", line 108, in load_test_model\n    model = build_base_model(model_opt, fields, use_gpu(opt), checkpoint,\n  File \"/Users/velody/miniconda3/envs/musicautobot2/lib/python3.9/site-packages/onmt/model_builder.py\", line 144, in build_base_model\n    src_emb = build_embeddings(model_opt, src_field)\n  File \"/Users/velody/miniconda3/envs/musicautobot2/lib/python3.9/site-packages/onmt/model_builder.py\", line 47, in build_embeddings\n    fix_word_vecs = opt.fix_word_vecs_enc if for_encoder \\\nAttributeError: 'Namespace' object has no attribute 'fix_word_vecs_enc'\n"
     ]
    }
   ],
   "source": [
    "!onmt_translate -model cpelite_step_25750.pt -src right/alb_esp4.txt -output pred.txt"
   ]
  },
  {
   "cell_type": "code",
   "execution_count": 3,
   "metadata": {},
   "outputs": [
    {
     "output_type": "stream",
     "name": "stdout",
     "text": [
      "Traceback (most recent call last):\n  File \"/Users/velody/miniconda3/envs/musicautobot2/bin/onmt_translate\", line 8, in <module>\n    sys.exit(main())\n  File \"/Users/velody/miniconda3/envs/musicautobot2/lib/python3.9/site-packages/onmt/bin/translate.py\", line 48, in main\n    translate(opt)\n  File \"/Users/velody/miniconda3/envs/musicautobot2/lib/python3.9/site-packages/onmt/bin/translate.py\", line 18, in translate\n    translator = build_translator(opt, logger=logger, report_score=True)\n  File \"/Users/velody/miniconda3/envs/musicautobot2/lib/python3.9/site-packages/onmt/translate/translator.py\", line 28, in build_translator\n    fields, model, model_opt = load_test_model(opt)\n  File \"/Users/velody/miniconda3/envs/musicautobot2/lib/python3.9/site-packages/onmt/model_builder.py\", line 108, in load_test_model\n    model = build_base_model(model_opt, fields, use_gpu(opt), checkpoint,\n  File \"/Users/velody/miniconda3/envs/musicautobot2/lib/python3.9/site-packages/onmt/model_builder.py\", line 144, in build_base_model\n    src_emb = build_embeddings(model_opt, src_field)\n  File \"/Users/velody/miniconda3/envs/musicautobot2/lib/python3.9/site-packages/onmt/model_builder.py\", line 47, in build_embeddings\n    fix_word_vecs = opt.fix_word_vecs_enc if for_encoder \\\nAttributeError: 'Namespace' object has no attribute 'fix_word_vecs_enc'\n"
     ]
    }
   ],
   "source": [
    "!onmt_translate -model cpelite_step_25750.pt -src right/alb_esp4.txt -output pred.txt"
   ]
  },
  {
   "cell_type": "code",
   "execution_count": null,
   "metadata": {},
   "outputs": [],
   "source": []
  }
 ]
}