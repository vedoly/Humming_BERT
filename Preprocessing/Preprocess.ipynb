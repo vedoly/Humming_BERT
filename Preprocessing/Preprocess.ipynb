{
 "metadata": {
  "language_info": {
   "codemirror_mode": {
    "name": "ipython",
    "version": 3
   },
   "file_extension": ".py",
   "mimetype": "text/x-python",
   "name": "python",
   "nbconvert_exporter": "python",
   "pygments_lexer": "ipython3",
   "version": "3.9.4"
  },
  "orig_nbformat": 2,
  "kernelspec": {
   "name": "python394jvsc74a57bd0ae3be318886efe40e373256aa6c7db7dcc21ea0c8969d301908eb06c6eb1ec2c",
   "display_name": "Python 3.9.4 64-bit ('musicautobot': conda)"
  }
 },
 "nbformat": 4,
 "nbformat_minor": 2,
 "cells": [
  {
   "cell_type": "code",
   "execution_count": 1,
   "metadata": {},
   "outputs": [],
   "source": [
    "import pandas as pd"
   ]
  },
  {
   "cell_type": "code",
   "execution_count": 8,
   "metadata": {},
   "outputs": [],
   "source": []
  },
  {
   "cell_type": "code",
   "execution_count": 2,
   "metadata": {},
   "outputs": [],
   "source": [
    "df = pd.read_csv('data_full.csv')\n",
    "df['right'] = df['right'].apply(lambda x: \" \".join(x.split(\" \")[2:]))\n",
    "df['left'] = df['left'].apply(lambda x:\" \".join(x.split(\" \")[2:]))"
   ]
  },
  {
   "cell_type": "code",
   "execution_count": 5,
   "metadata": {},
   "outputs": [
    {
     "output_type": "execute_result",
     "data": {
      "text/plain": [
       "'xxsep d3 n68 d32 n65 d32 xxsep d32 n69 d30 n66 d30 xxsep d30 n68 d31 n65 d31 xxsep d31 n66 d30 n63 d30 xxsep d30 n63 d19 n61 d19 xxsep d19 n63 d9 n60 d9 xxsep d10 n61 d19 n58 d19 xxsep d18 n60 d9 n57 d9 xxsep d10 n58 d29 n56 d19 xxsep d19 n54 d9 xxsep d9 n56 d9 n53 d19 xxsep d19 n54 d13 n51 d6 xxsep d6 n44 d11 xxsep d7 n37 d4 xxsep d7 n68 d26 n65 d26 xxsep d26 n49 d20 n42 d20 xxsep d3 n61 d27 n58 d27 n54 d27 n49 d17 xxsep d27 n49 d21 n41 d21 xxsep d3 n56 d7 n53 d7 xxsep d7 n65 d10 n61 d10 xxsep d11 n61 d10 n56 d10 xxsep d9 n49 d20 n42 d20 xxsep d4 n61 d27 n58 d27 n54 d27 n49 d17 xxsep d27 n44 d32 xxsep d3 n59 d7 n53 d7 xxsep d7 n65 d14 n61 d14 n59 d14 xxsep d21 n46 d21 xxsep d3 n63 d12 n58 d32 n53 d32 xxsep d12 n61 d20 xxsep d21 n39 d20 n27 d20 xxsep d5 n70 d11 n66 d11 n65 d15 xxsep d8 n70 d3 n66 d3 n63 d3 xxsep d3 n70 d3 n66 d3 n63 d3 xxsep d3 n70 d3 n66 d3 n63 d3 xxsep d3 n70 d3 n66 d3 n61 d3 xxsep d4 n70 d3 n66 d3 n61 d3 xxsep d3 n70 d3 n66 d3 n61 d3 xxsep d3 n70 d3 n66 d3 n60 d3 xxsep d3 n70 d3 n66 d3 n60 d3 xxsep d3 n70 d5 n66 d5 n60 d5 xxsep d5 n70 d5 n66 d5 n61 d5 xxsep d5 n66 d11 n61 d11 n58 d11 xxsep d11 n46 d19 n39 d19 n27 d19 xxsep d6 n70 d11 n66 d11 n65 d14 xxsep d8 n75 d3 n70 d3 n66 d3 xxsep d3 n70 d3 n66 d3 n65 d3 xxsep d3 n70 d3 n66 d3 n63 d3 xxsep d3 n70 d3 n66 d3 n65 d3 xxsep d3 n70 d3 n66 d3 n63 d3 xxsep d2 n70 d3 n66 d3 n61 d3 xxsep d4 n70 d3 n66 d3 n63 d3 xxsep d3 n70 d3 n66 d3 n61 d3 xxsep d3 n70 d5 n66 d5 n60 d5 xxsep d5 n70 d5 n66 d5 n61 d5 xxsep d5 n66 d11 n63 d11 n58 d11 xxsep d11 n44 d17 n32 d17 xxsep d4 n54 d4 xxsep d4 n63 d8 n60 d8 n56 d4 xxsep d4 n60 d4 xxsep d5 n66 d9 n63 d9 n58 d4 xxsep d4 n54 d4 xxsep d4 n45 d16 n33 d16 xxsep d3 n63 d3 n60 d3 n54 d3 xxsep d3 n63 d3 n60 d3 n54 d3 xxsep d2 n63 d3 n60 d3 n54 d3 xxsep d3 n63 d3 n60 d3 n54 d3 xxsep d3 n63 d3 n60 d3 n56 d3 xxsep d2 n63 d8 n60 d8 n54 d8 xxsep d9 n46 d16 n34 d16 xxsep d4 n61 d8 n58 d8 n54 d4 xxsep d4 n56 d4 xxsep d4 n61 d4 xxsep d4 n66 d9 n61 d9 n58 d4 xxsep d5 n54 d4 xxsep d4 n48 d16 n36 d16 xxsep d2 n63 d3 n58 d3 n54 d3 xxsep d3 n63 d3 n58 d3 n54 d3 xxsep d3 n63 d3 n58 d3 n54 d3 xxsep d2 n63 d2 n58 d2 n54 d2 xxsep d3 n65 d3 n60 d3 n56 d3 xxsep d3 n63 d8 n58 d8 n54 d8 xxsep d8 n49 d16 n37 d16 xxsep d4 n61 d8 n58 d8 n54 d4 xxsep d4 n56 d4 xxsep d4 n63 d4 xxsep d4 n70 d9 n66 d9 n61 d4 xxsep d4 n58 d4 xxsep d4 n51 d16 n39 d16 xxsep d3 n63 d3 n58 d3 n54 d3 xxsep d3 n63 d3 n58 d3 n54 d3 xxsep d2 n63 d3 n58 d3 n54 d3 xxsep d3 n63 d2 n58 d2 n54 d2 xxsep d3 n65 d3 n60 d3 n56 d3 xxsep d2 n63 d3 n58 d3 n54 d3 xxsep d3 n70 d3 n66 d3 n61 d3 xxsep d3 n70 d1 n66 d1 n63 d1 xxsep d1 n65 d17 xxsep d1 n77 d15 n73 d16 n68 d16 xxsep d16 n70 d8 n68 d9 n64 d9 xxsep d1 n76 d8 n73 d8 xxsep d8 n68 d16 n66 d16 n63 d17 xxsep d1 n75 d15 n73 d16 xxsep d15 n56 d15 xxsep d1 n63 d14 xxsep d1 n66 d13 xxsep d1 n72 d12 xxsep d12 n37 d4 xxsep d1 n44 d1 xxsep d1 n49 d1 xxsep d2 n53 d1 xxsep d1 n56 d1 xxsep d2 n61 d1 xxsep d1 n41 d4 xxsep d2 n48 d1 xxsep d1 n53 d1 xxsep d1 n56 d1 xxsep d2 n60 d1 xxsep d1 n65 d1 xxsep d1 n44 d4 xxsep d2 n52 d1 xxsep d1 n56 d1 xxsep d2 n59 d1 xxsep d1 n64 d1 xxsep d2 n68 d1 xxsep d1 n37 d4 xxsep d1 n44 d1 xxsep d2 n49 d1 xxsep d1 n53 d1 xxsep d2 n56 d1 xxsep d1 n61 d1 xxsep d1 n41 d4 xxsep d2 n48 d1 xxsep d1 n53 d1 xxsep d1 n56 d1 xxsep d2 n60 d1 xxsep d1 n65 d1 xxsep d1 n44 d4 xxsep d2 n52 d1 xxsep d1 n56 d1 xxsep d1 n59 d1 xxsep d3 n64 d1 xxsep d1 n37 d1 xxsep d1 n44 d1 xxsep d2 n49 d1 xxsep d1 n53 d1 xxsep d1 n56 d1 xxsep d2 n61 d1 xxsep d1 n65 d1 xxsep d1 n68 d1 xxsep d1 n65 d1 xxsep d2 n61 d1 xxsep d1 n56 d1 xxsep d1 n53 d1 xxsep d1 n56 d1 xxsep d2 n53 d1 xxsep d1 n49 d1 xxsep d1 n44 d1 xxsep d1 n49 d1 xxsep d2 n44 d1 xxsep d1 n39 d1 xxsep d1 n46 d1 xxsep d1 n51 d1 xxsep d2 n55 d1 xxsep d1 n58 d1 xxsep d1 n63 d1 xxsep d3 n63 d1 xxsep d1 n58 d1 xxsep d1 n55 d1 xxsep d1 n51 d1 xxsep d2 n46 d1 xxsep d1 n39 d1 xxsep d1 n46 d1 xxsep d1 n51 d1 xxsep d1 n55 d1 xxsep d2 n51 d1 xxsep d1 n46 d1 xxsep d1 n44 d7 xxsep d2 n51 d1 xxsep d1 n54 d1 xxsep d1 n58 d1 xxsep d1 n60 d1 xxsep d1 n66 d1 xxsep d1 n42 d7 xxsep d1 n49 d1 xxsep d2 n54 d1 xxsep d1 n58 d1 xxsep d1 n61 d1 xxsep d2 n66 d1 xxsep d1 n41 d7 xxsep d1 n48 d1 xxsep d1 n53 d1 xxsep d1 n56 d1 xxsep d1 n60 d3 xxsep d3 n44 d7 xxsep d1 n51 d1 xxsep d1 n54 d1 xxsep d2 n58 d1 xxsep d1 n60 d1 xxsep d1 n66 d1 xxsep d2 n42 d7 xxsep d1 n49 d1 xxsep d1 n54 d1 xxsep d1 n58 d1 xxsep d1 n61 d1 xxsep d1 n66 d1 xxsep d1 n41 d7 xxsep d2 n48 d1 xxsep d1 n53 d1 xxsep d1 n56 d1 xxsep d1 n60 d3 xxsep d3 n39 d7 xxsep d1 n46 d1 xxsep d1 n51 d1 xxsep d1 n54 d1 xxsep d1 n58 d1 xxsep d2 n63 d1 xxsep d1 n66 d1 xxsep d3 n65 d3 xxsep d4 n62 d3 xxsep d3 n63 d3 xxsep d3 n62 d3 xxsep d2 n66 d1 xxsep d1 n70 d1 xxsep d1 n70 d1 xxsep d1 n78 d1 xxsep d1 n82 d7 xxsep d1 n63 d3 xxsep d1 n66 d1 xxsep d2 n70 d1 xxsep d1 n70 d1 xxsep d1 n78 d1 xxsep d1 n82 d1 xxsep d1 n60 d1 n56 d3 xxsep d1 n64 d1 xxsep d1 n68 d1 xxsep d2 n72 d1 xxsep d1 n76 d1 xxsep d1 n80 d1 xxsep d2 n49 d7 xxsep d1 n56 d1 xxsep d1 n61 d1 xxsep d1 n65 d1 xxsep d1 n68 d1 xxsep d1 n73 d1 xxsep d1 n56 d1 n53 d7 xxsep d2 n60 d1 xxsep d1 n65 d1 xxsep d1 n68 d1 xxsep d1 n72 d1 xxsep d1 n77 d1 xxsep d1 n59 d1 n56 d7 xxsep d1 n64 d1 xxsep d2 n68 d1 xxsep d1 n71 d1 xxsep d1 n76 d1 xxsep d1 n80 d1 xxsep d1 n49 d7 xxsep d2 n56 d1 xxsep d1 n61 d1 xxsep d1 n65 d1 xxsep d1 n68 d1 xxsep d1 n73 d1 xxsep d1 n56 d1 n53 d7 xxsep d1 n60 d1 xxsep d2 n65 d1 xxsep d1 n68 d1 xxsep d1 n72 d1 xxsep d1 n77 d1 xxsep d1 n59 d1 n56 d7 xxsep d1 n64 d1 xxsep d1 n68 d1 xxsep d1 n71 d1 xxsep d1 n80 d1 xxsep d2 n76 d1 xxsep d1 n61 d1 n59 d3 xxsep d1 n68 d1 n64 d1 xxsep d2 n71 d3 xxsep d2 n64 d1 n61 d3 xxsep d2 n68 d1 xxsep d1 n71 d1 xxsep d1 n73 d3 xxsep d3 n68 d1 n64 d3 xxsep d1 n73 d1 n71 d1 xxsep d2 n76 d3 xxsep d2 n68 d3 xxsep d2 n73 d1 n69 d1 xxsep d4 n66 d3 xxsep d1 n69 d1 xxsep d1 n73 d1 xxsep d4 n66 d1 n65 d3 xxsep d2 n73 d1 n69 d1 xxsep d4 n64 d3 xxsep d1 n66 d1 xxsep d1 n69 d1 xxsep d4 n66 d1 n63 d3 xxsep d1 n69 d1 xxsep d1 n73 d1 xxsep d4 n64 d1 n61 d3 xxsep d1 n69 d1 xxsep d1 n73 d1 xxsep d1 n76 d1 xxsep d3 n59 d3 xxsep d2 n66 d1 n63 d1 xxsep d4 n57 d3 xxsep d1 n61 d1 xxsep d1 n64 d1 xxsep d4 n56 d3 xxsep d1 n61 d1 xxsep d1 n64 d1 xxsep d1 n69 d1 xxsep d3 n54 d20 xxsep d2 n61 d1 xxsep d1 n64 d1 xxsep d1 n66 d1 xxsep d1 n69 d1 xxsep d1 n73 d1 xxsep d1 n76 d1 xxsep d1 n78 d1 xxsep d1 n76 d1 xxsep d2 n73 d1 xxsep d1 n69 d1 xxsep d1 n66 d1 xxsep d1 n64 d1 xxsep d1 n66 d1 xxsep d1 n64 d1 xxsep d1 n61 d1 xxsep d1 n57 d1 xxsep d2 n54 d1 xxsep d1 n42 d1 xxsep d1 n49 d1 xxsep d1 n52 d1 xxsep d1 n54 d1 xxsep d1 n57 d1 xxsep d1 n61 d1 xxsep d2 n64 d1 xxsep d1 n61 d1 xxsep d1 n57 d1 xxsep d1 n54 d1 xxsep d1 n52 d1 xxsep d1 n49 d1 xxsep d1 n42 d1 xxsep d2 n49 d1 xxsep d1 n42 d1 xxsep d1 n49 d1 xxsep d1 n42 d1 xxsep d1 n49 d1 xxsep d1 n44 d1 xxsep d2 n51 d1 xxsep d1 n44 d1 xxsep d1 n51 d1 xxsep d2 n44 d1 xxsep d1 n51 d1 xxsep d1 n44 d1 xxsep d1 n51 d1 xxsep d2 n44 d1 xxsep d1 n51 d1 xxsep d1 n44 d1 xxsep d2 n51 d1 xxsep d1 n44 d1 xxsep d1 n51 d1 xxsep d1 n44 d1 xxsep d1 n51 d1 xxsep d1 n44 d1 xxsep d1 n51 d1 xxsep d2 n44 d1 xxsep d1 n51 d1 xxsep d1 n44 d1 xxsep d2 n51 d1 xxsep d1 n44 d1 xxsep d1 n51 d1 xxsep d2 n44 d1 xxsep d1 n51 d1 xxsep d1 n44 d1 xxsep d1 n51 d1 xxsep d1 n44 d1 xxsep d2 n51 d1 xxsep d1 n44 d1 xxsep d1 n51 d1 xxsep d1 n44 d1 xxsep d1 n51 d1 xxsep d2 n44 d1 xxsep d1 n51 d1 xxsep d1 n44 d1 xxsep d1 n39 d1 xxsep d2 n44 d1 xxsep d1 n51 d1 xxsep d1 n44 d1 xxsep d1 n51 d1 xxsep d1 n56 d1 xxsep d1 n51 d1 xxsep d2 n56 d1 xxsep d1 n63 d1 xxsep d1 n56 d1 xxsep d1 n51 d1 xxsep d1 n56 d1 xxsep d1 n51 d1 xxsep d2 n44 d1 xxsep d1 n51 d1 xxsep d1 n44 d1 xxsep d1 n39 d1 xxsep d1 n44 d1 xxsep d1 n39 d1 xxsep d2 n44 d1 xxsep d1 n51 d1 xxsep d1 n44 d1 xxsep d1 n51 d1 xxsep d1 n56 d1 xxsep d2 n51 d1 xxsep d1 n56 d1 xxsep d1 n63 d1 xxsep d1 n56 d1 xxsep d1 n51 d1 xxsep d1 n56 d1 xxsep d1 n51 d1 xxsep d2 n56 d1 xxsep d1 n51 d1 xxsep d1 n56 d1 xxsep d1 n51 d1 xxsep d2 n61 d15 n54 d5 xxsep d5 n56 d3 xxsep d2 n58 d5 xxsep d5 n61 d3 xxsep d2 n60 d8 xxsep d2 n63 d1 xxsep d1 n66 d1 xxsep d1 n70 d1 xxsep d4 n61 d15 n54 d5 xxsep d5 n56 d3 xxsep d2 n58 d5 xxsep d6 n61 d3 xxsep d2 n60 d9 xxsep d2 n63 d1 xxsep d1 n66 d1 xxsep d1 n70 d1 xxsep d5 n66 d9 xxsep d1 n70 d1 xxsep d2 n73 d1 xxsep d4 n66 d1 xxsep d2 n70 d1 xxsep d1 n73 d1 xxsep d5 n66 d1 xxsep d1 n70 d1 xxsep d1 n73 d1 xxsep d6 n66 d9 xxsep d1 n69 d1 xxsep d1 n73 d1 xxsep d5 n66 d1 xxsep d1 n69 d1 xxsep d2 n73 d1 xxsep d5 n66 d1 xxsep d1 n69 d1 xxsep d2 n73 d1 xxsep d7 n65 d21 xxsep d2 n68 d2 xxsep d1 n72 d1 xxsep d2 n77 d1 xxsep d2 n80 d1 xxsep d1 n84 d2 xxsep d13 n65 d11 xxsep d10 n65 d20 xxsep d2 n69 d1 xxsep d2 n72 d1 xxsep d1 n75 d1 xxsep d2 n77 d1 xxsep d1 n81 d1 xxsep d12 n65 d10 xxsep d10 n65 d20 xxsep d2 n68 d1 xxsep d2 n70 d1 xxsep d1 n73 d1 xxsep d1 n77 d1 xxsep d2 n80 d1 xxsep d12 n65 d11 xxsep d10 n63 d19 xxsep d2 n66 d1 xxsep d2 n68 d1 xxsep d1 n72 d1 xxsep d2 n75 d1 xxsep d1 n78 d1 xxsep d12 n63 d10 xxsep d10 n61 d19 xxsep d1 n63 d1 xxsep d2 n66 d1 xxsep d1 n70 d1 xxsep d2 n73 d1 xxsep d2 n75 d1 xxsep d7 n60 d12 xxsep d1 n63 d11 xxsep d1 n65 d11 xxsep d1 n72 d9 n68 d10 xxsep d10 n48 d18 xxsep d1 n54 d1 xxsep d1 n58 d1 xxsep d2 n60 d1 xxsep d1 n63 d1 xxsep d2 n66 d1 xxsep d1 n70 d9 xxsep d10 n63 d9 n60 d9 n53 d9 xxsep d9 n56 d19 xxsep d2 n58 d1 xxsep d1 n61 d1 xxsep d2 n65 d1 xxsep d1 n68 d1 xxsep d2 n70 d1 xxsep d9 n58 d11 n54 d11 xxsep d1 n61 d10 xxsep d1 n63 d9 xxsep d9 n53 d19 xxsep d1 n56 d1 xxsep d2 n58 d1 xxsep d1 n61 d1 xxsep d2 n65 d1 xxsep d1 n68 d1 xxsep d11 n60 d14 n54 d14 n51 d6 xxsep d7 n44 d32 xxsep d8 n37 d24 xxsep d6 n68 d28 n65 d28 xxsep d6 n59 d23 xxsep d22 n49 d21 n42 d21 xxsep d4 n61 d28 n58 d28 n54 d28 n49 d18 xxsep d28 n44 d22 xxsep d4 n56 d7 n53 d7 xxsep d7 n65 d11 n61 d11 n59 d21 xxsep d11 n61 d11 xxsep d11 n46 d21 xxsep d3 n63 d18 n58 d29 n53 d29 xxsep d18 n61 d11 xxsep d12 n41 d35 xxsep d34 n39 d24 xxsep d13 n51 d11 xxsep d11 n63 d11 xxsep d12 n44 d25 xxsep d6 n51 d7 xxsep d6 n80 d13 xxsep d12 n56 d13 xxsep d14 n37 d11 xxsep d2 n44 d2 xxsep d2 n49 d2 xxsep d2 n53 d2 xxsep d5 n41 d10 xxsep d2 n48 d2 xxsep d1 n53 d2 xxsep d7 n37 d10 xxsep d1 n44 d1 xxsep d2 n49 d1 xxsep d2 n53 d1 xxsep d5 n41 d10 xxsep d2 n48 d1 xxsep d1 n53 d1 xxsep d7 n44 d22 xxsep d2 n52 d1 xxsep d1 n56 d2 xxsep d2 n59 d2 xxsep d2 n64 d2 xxsep d2 n66 d2 xxsep d2 n68 d11 xxsep d11 n49 d11 xxsep d2 n56 d2 xxsep d1 n61 d2 xxsep d2 n65 d2 xxsep d6 n53 d10 xxsep d2 n60 d2 xxsep d1 n65 d1 xxsep d7 n49 d10 xxsep d1 n56 d1 xxsep d2 n61 d1 xxsep d2 n65 d1 xxsep d4 n53 d10 xxsep d2 n60 d1 xxsep d2 n65 d1 xxsep d7 n56 d22 xxsep d1 n59 d1 xxsep d2 n64 d2 xxsep d2 n68 d2 xxsep d1 n71 d2 xxsep d2 n76 d13 xxsep d13 n56 d22 xxsep d2 n59 d1 xxsep d2 n64 d2 xxsep d1 n68 d2 xxsep d2 n71 d2 xxsep d2 n76 d13 xxsep d13 n44 d11 xxsep d12 n37 d26 xxsep d2 n44 d2 xxsep d2 n49 d2 xxsep d2 n53 d2 xxsep d2 n56 d2 xxsep d2 n61 d2 xxsep d3 n65 d4 xxsep d4 n68 d4 xxsep d4 n73 d4 xxsep d5 n77 d4 xxsep d4 n80 d5 xxsep d5 n85 d4 xxsep d4 n68 d36 n61 d37 xxsep d1 n73 d35 xxsep d1 n77 d34'"
      ]
     },
     "metadata": {},
     "execution_count": 5
    }
   ],
   "source": [
    "df.iloc[0].left"
   ]
  },
  {
   "cell_type": "code",
   "execution_count": 96,
   "metadata": {},
   "outputs": [],
   "source": [
    "def seperateSeq(seq):\n",
    "    out = []\n",
    "    seq = seq.split(\" \")\n",
    "    for i in range(len(seq)//32+1):\n",
    "        out.append(seq[i*32:(i+1)*32])\n",
    "    return out\n"
   ]
  },
  {
   "cell_type": "code",
   "execution_count": 101,
   "metadata": {},
   "outputs": [],
   "source": [
    "df['right_split'] = df['right'].apply(lambda x: seperateSeq(x))\n",
    "df['left_split'] = df['left'].apply(lambda x:seperateSeq(x))"
   ]
  },
  {
   "cell_type": "code",
   "execution_count": 103,
   "metadata": {},
   "outputs": [],
   "source": [
    "df.to_csv('data_seq.csv',index=False)"
   ]
  },
  {
   "cell_type": "code",
   "execution_count": 104,
   "metadata": {},
   "outputs": [],
   "source": []
  },
  {
   "cell_type": "code",
   "execution_count": 114,
   "metadata": {},
   "outputs": [],
   "source": [
    "test = pd.read_csv('data_seq.csv')\n",
    "test['right_split'] = test['right_split'].apply(lambda x: eval(x))\n",
    "test['left_split'] = test['left_split'].apply(lambda x : eval(x)) "
   ]
  },
  {
   "cell_type": "code",
   "execution_count": null,
   "metadata": {},
   "outputs": [],
   "source": []
  }
 ]
}