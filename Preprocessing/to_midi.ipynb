{
 "metadata": {
  "language_info": {
   "codemirror_mode": {
    "name": "ipython",
    "version": 3
   },
   "file_extension": ".py",
   "mimetype": "text/x-python",
   "name": "python",
   "nbconvert_exporter": "python",
   "pygments_lexer": "ipython3",
   "version": "3.9.4"
  },
  "orig_nbformat": 2,
  "kernelspec": {
   "name": "python394jvsc74a57bd0ae3be318886efe40e373256aa6c7db7dcc21ea0c8969d301908eb06c6eb1ec2c",
   "display_name": "Python 3.9.4 64-bit ('musicautobot': conda)"
  }
 },
 "nbformat": 4,
 "nbformat_minor": 2,
 "cells": [
  {
   "cell_type": "code",
   "execution_count": 3,
   "metadata": {},
   "outputs": [],
   "source": [
    "def clearExceed(arr):\n",
    "    last_sep = 9999\n",
    "    for i in range(len(arr)-1,-1,-1):\n",
    "        if(arr[i]=='xxsep'):\n",
    "            last_sep = i\n",
    "            break\n",
    "    return arr[:last_sep+2]\n",
    "\n",
    "def countSep(arr):\n",
    "    count = 0\n",
    "    out = []\n",
    "    for i in range(len(arr)):\n",
    "        out.append(arr[i])\n",
    "        if arr[i] == 'xxsep':\n",
    "            count+= int(arr[i+1][1:])\n",
    "        if count > 48:\n",
    "            out.append(arr[i+1])\n",
    "            break\n",
    "    return out,count\n",
    "\n",
    "def countSepNum(arr):\n",
    "    count = 0\n",
    "    out = []\n",
    "    for i in range(len(arr)):\n",
    "        out.append(arr[i])\n",
    "        if arr[i] == 'xxsep':\n",
    "            count+= int(arr[i+1][1:])\n",
    "        if count >= 48:\n",
    "            out.append(arr[i+1])\n",
    "            break\n",
    "    \n",
    "    \n",
    "    return count\n",
    "def clearSep(x):\n",
    "    if countSepNum(x) == 48:\n",
    "        return x\n",
    "    diff = 48 - countSepNum(x)\n",
    "    last_sep = int(x[-1][1:])\n",
    "    last_sep += diff\n",
    "    assert last_sep > 0\n",
    "    return x[:-1] + ['d' + str(last_sep)]"
   ]
  },
  {
   "cell_type": "code",
   "execution_count": 45,
   "metadata": {},
   "outputs": [],
   "source": [
    "left = [ clearSep(countSep(clearExceed(e.strip().split(\" \")))[0]) for e in open('pred_1000.txt').readlines()]\n",
    "right = [ e.strip().split(\" \") for e in open('ty_dezember.txt')]\n",
    "left_gt =[ e.strip().split(\" \") for e in open('ty_dezember_gt.txt')]"
   ]
  },
  {
   "cell_type": "code",
   "execution_count": 46,
   "metadata": {},
   "outputs": [],
   "source": [
    "left_hand = []\n",
    "right_hand = []\n",
    "left_hand_gt = []\n",
    "for c in left:\n",
    "    left_hand += c\n",
    "\n",
    "for c in right:\n",
    "    right_hand += c\n",
    "\n",
    "for c in left_gt:\n",
    "    left_hand_gt += c"
   ]
  },
  {
   "cell_type": "code",
   "execution_count": null,
   "metadata": {},
   "outputs": [],
   "source": [
    "from musicautobot.numpy_encode import *\n",
    "from musicautobot.config import *\n",
    "from musicautobot.music_transformer import *\n",
    "from musicautobot.multitask_transformer import *\n",
    "from musicautobot.utils import midifile\n"
   ]
  },
  {
   "cell_type": "code",
   "execution_count": 47,
   "metadata": {},
   "outputs": [],
   "source": [
    "vocab = MusicVocab.create()\n",
    "stoi = vocab.stoi\n",
    "# item = MusicItem.from_file(midi_file, vocab)"
   ]
  },
  {
   "cell_type": "code",
   "execution_count": 48,
   "metadata": {},
   "outputs": [],
   "source": [
    "right_hand_test = ['xxbos','xxpad'] + right_hand\n",
    "right_hand_test = [stoi[e] for e in right_hand_test]"
   ]
  },
  {
   "cell_type": "code",
   "execution_count": 49,
   "metadata": {},
   "outputs": [],
   "source": [
    "left_hand_test = ['xxbos','xxpad'] + left_hand\n",
    "left_hand_test = [stoi[e] for e in left_hand_test]"
   ]
  },
  {
   "cell_type": "code",
   "execution_count": 51,
   "metadata": {},
   "outputs": [],
   "source": [
    "left_hand_gt_test = ['xxbos','xxpad'] + left_hand_gt\n",
    "left_hand_gt_test = [stoi[e] for e in left_hand_gt_test]"
   ]
  },
  {
   "cell_type": "code",
   "execution_count": 53,
   "metadata": {},
   "outputs": [],
   "source": [
    "left_hand_midi = idxenc2stream(np.array(left_hand_gt_test),vocab)\n",
    "new_item = MusicItem.from_stream(xx,vocab)"
   ]
  },
  {
   "cell_type": "code",
   "execution_count": 54,
   "metadata": {},
   "outputs": [],
   "source": [
    "fp = left_hand_midi.write('midi', fp='left_gt.mid')"
   ]
  },
  {
   "cell_type": "code",
   "execution_count": 59,
   "metadata": {},
   "outputs": [],
   "source": [
    "def clearExceed(arr):\n",
    "    res = arr[:fo:-1][0]\n",
    "    last_seq = len(arr) - res.index('xxsep') - 1\n",
    "    return arr[:last_seq+2]"
   ]
  },
  {
   "cell_type": "code",
   "execution_count": 46,
   "metadata": {
    "tags": []
   },
   "outputs": [
    {
     "output_type": "stream",
     "name": "stdout",
     "text": [
      " 'n60', 'd2', 'n57', 'd2'], ['xxsep', 'd4', 'n50', 'd11', 'n43', 'd11', 'xxsep', 'd12', 'n50', 'd11', 'n43', 'd11', 'xxsep', 'd11', 'n50', 'd11', 'n43', 'd11', 'xxsep', 'd11', 'n50', 'd11', 'n43', 'd11', 'xxsep', 'd12']]\n['xxsep', 'd4', 'n50', 'd11', 'n43', 'd11', 'xxsep', 'd12', 'n50', 'd11', 'n43', 'd11', 'xxsep', 'd11', 'n50', 'd11', 'n43', 'd11', 'xxsep', 'd11', 'n50', 'd11', 'n43', 'd11', 'xxsep', 'd12']\nx\n[['xxsep', 'd3', 'n51', 'd3', 'xxsep', 'd2', 'n50', 'd3', 'xxsep', 'd3', 'n48', 'd11', 'xxsep', 'd13', 'n63', 'd2', 'n60', 'd2', 'xxsep', 'd2', 'n63', 'd2', 'n60', 'd2', 'xxsep', 'd3', 'n63', 'd2', 'n60', 'd2', 'xxsep', 'd2', 'n62', 'd11', 'n58', 'd11', 'xxsep', 'd13', 'n67', 'd2', 'n64', 'd2', 'xxsep', 'd3', 'n67', 'd2', 'n64', 'd2', 'xxsep', 'd3', 'n67', 'd2', 'n64', 'd2', 'xxsep', 'd1'], ['xxsep', 'd1', 'n62', 'd3', 'n58', 'd3', 'xxsep', 'd12', 'n58', 'd3', 'n55', 'd3', 'n51', 'd3', 'xxsep', 'd9', 'n58', 'd3', 'n53', 'd3', 'n50', 'd3', 'xxsep', 'd6', 'n65', 'd12', 'n57', 'd9', 'xxsep', 'd9', 'n58', 'd3', 'xxsep', 'd9'], ['xxsep', 'd1', 'n58', 'd3', 'n55', 'd3', 'n51', 'd3', 'xxsep', 'd9', 'n58', 'd3', 'n53', 'd3', 'n50', 'd3', 'xxsep', 'd6', 'n57', 'd3', 'n53', 'd9', 'xxsep', 'd3', 'n60', 'd3', 'xxsep', 'd3', 'n63', 'd3', 'xxsep', 'd3', 'n62', 'd3', 'n58', 'd3', 'xxsep', 'd9', 'n55', 'd1', 'xxsep', 'd3', 'n43', 'd1', 'xxsep', 'd6', 'n50', 'd1', 'xxsep', 'd3'], ['xxsep', 'd1', 'n51', 'd1', 'xxsep', 'd2', 'n44', 'd1', 'xxsep', 'd1', 'n51', 'd1', 'xxsep', 'd1', 'n46', 'd1', 'xxsep', 'd2', 'n51', 'd1', 'xxsep', 'd1', 'n44', 'd1', 'xxsep', 'd1', 'n51', 'd1', 'xxsep', 'd2', 'n46', 'd1', 'xxsep', 'd1', 'n51', 'd1', 'xxsep', 'd1', 'n48', 'd1', 'xxsep', 'd2', 'n51', 'd1', 'xxsep', 'd1', 'n45', 'd1', 'xxsep', 'd1', 'n51', 'd1', 'xxsep', 'd2', 'n46', 'd1', 'xxsep', 'd1', 'n51', 'd1', 'xxsep', 'd1', 'n48', 'd1', 'xxsep', 'd2', 'n51', 'd1', 'xxsep', 'd1', 'n46', 'd1', 'xxsep', 'd1', 'n51', 'd1', 'xxsep', 'd2', 'n48', 'd1', 'xxsep', 'd1', 'n51', 'd1', 'xxsep', 'd1', 'n46', 'd1', 'xxsep', 'd2', 'n51', 'd1', 'xxsep', 'd1', 'n48', 'd1', 'xxsep', 'd1', 'n51', 'd1'], ['xxsep', 'd8', 'n60', 'd15', 'n55', 'd15', 'n52', 'd15', 'xxsep', 'd15', 'n58', 'd5', 'n46', 'd5', 'xxsep', 'd5', 'n57', 'd5', 'n45', 'd5', 'xxsep', 'd5', 'n55', 'd5', 'n43', 'd5', 'xxsep', 'd5', 'n53', 'd5', 'n41', 'd5', 'xxsep', 'd7'], ['xxsep', 'd5', 'n60', 'd2', 'xxsep', 'd2', 'n58', 'd2', 'xxsep', 'd2', 'n56', 'd1', 'xxsep', 'd1', 'n55', 'd2', 'xxsep', 'd2', 'n51', 'd1', 'xxsep', 'd2', 'n56', 'd2', 'xxsep', 'd2', 'n51', 'd1', 'xxsep', 'd2', 'n58', 'd2', 'xxsep', 'd1', 'n51', 'd1', 'xxsep', 'd2', 'n56', 'd2', 'xxsep', 'd12', 'n60', 'd2', 'xxsep', 'd2', 'n58', 'd2', 'xxsep', 'd2', 'n56', 'd1', 'xxsep', 'd1', 'n61', 'd2', 'xxsep', 'd2', 'n58', 'd1', 'xxsep', 'd2', 'n63', 'd2', 'xxsep', 'd2', 'n51', 'd1', 'xxsep', 'd2', 'n56', 'd2', 'xxsep', 'd1'], ['xxsep', 'd1', 'n53', 'd1', 'xxsep', 'd2', 'n65', 'd1', 'n60', 'd1', 'n56', 'd1', 'xxsep', 'd2', 'n53', 'd1', 'xxsep', 'd1', 'n62', 'd1', 'n59', 'd1', 'n56', 'd1', 'xxsep', 'd2', 'n53', 'd1', 'xxsep', 'd2', 'n48', 'd1', 'xxsep', 'd2', 'n60', 'd1', 'n55', 'd1', 'n52', 'd1', 'xxsep', 'd2', 'n48', 'd1', 'xxsep', 'd2', 'n60', 'd1', 'n55', 'd1', 'n52', 'd1', 'xxsep', 'd2', 'n48', 'd1', 'xxsep', 'd1', 'n60', 'd1', 'n55', 'd1', 'n52', 'd1', 'xxsep', 'd2', 'n48', 'd1', 'xxsep', 'd2', 'n60', 'd1', 'n55', 'd1', 'n52', 'd1', 'xxsep', 'd1', 'n48', 'd1', 'xxsep', 'd2', 'n60', 'd1', 'n55', 'd1', 'n52', 'd1', 'xxsep', 'd2', 'n49', 'd1', 'xxsep', 'd2', 'n61', 'd1', 'n53', 'd1', 'xxsep', 'd1'], ['xxsep', 'd1', 'n68', 'd3', 'xxsep', 'd3', 'n71', 'd1', 'xxsep', 'd1', 'n72', 'd11', 'n70', 'd6', 'xxsep', 'd6', 'n69', 'd4', 'xxsep', 'd5', 'n71', 'd11', 'n69', 'd7', 'xxsep', 'd6', 'n68', 'd4', 'xxsep', 'd5', 'n71', 'd2', 'xxsep', 'd2', 'n69', 'd3', 'xxsep', 'd3', 'n65', 'd1', 'xxsep', 'd1', 'n66', 'd4', 'xxsep', 'd4', 'n69', 'd2', 'n59', 'd6', 'xxsep', 'd2', 'n73', 'd3', 'xxsep', 'd3', 'n71', 'd1', 'xxsep', 'd1', 'n68', 'd4', 'n64', 'd4', 'xxsep', 'd4'], ['xxsep', 'd1', 'n54', 'd1', 'xxsep', 'd2', 'n58', 'd1', 'xxsep', 'd1', 'n54', 'd1', 'xxsep', 'd1', 'n58', 'd1', 'xxsep', 'd1', 'n54', 'd1', 'xxsep', 'd2', 'n58', 'd1', 'xxsep', 'd1', 'n54', 'd1', 'xxsep', 'd1', 'n58', 'd1', 'xxsep', 'd1', 'n54', 'd1', 'xxsep', 'd2', 'n58', 'd1', 'xxsep', 'd1', 'n54', 'd1', 'xxsep', 'd1', 'n58', 'd1', 'xxsep', 'd1', 'n54', 'd1', 'xxsep', 'd2', 'n58', 'd1', 'xxsep', 'd1', 'n54', 'd1', 'xxsep', 'd1', 'n58', 'd1', 'xxsep', 'd1', 'n54', 'd1', 'xxsep', 'd2', 'n58', 'd1', 'xxsep', 'd1', 'n54', 'd1', 'xxsep', 'd1', 'n58', 'd1', 'xxsep', 'd1', 'n54', 'd1', 'xxsep', 'd2', 'n58', 'd1', 'xxsep', 'd1', 'n54', 'd1', 'xxsep', 'd1', 'n58', 'd1', 'xxsep', 'd1', 'n54', 'd1'], ['xxsep', 'd1', 'n51', 'd3', 'xxsep', 'd3', 'n52', 'd1', 'xxsep', 'd1', 'n53', 'd1', 'xxsep', 'd1', 'n55', 'd1', 'xxsep', 'd2', 'n53', 'd1', 'xxsep', 'd1', 'n53', 'd1', 'xxsep', 'd1', 'n41', 'd1', 'xxsep', 'd2', 'n46', 'd1', 'xxsep', 'd1', 'n53', 'd1', 'xxsep', 'd1', 'n55', 'd1', 'xxsep', 'd1', 'n53', 'd1', 'xxsep', 'd2', 'n62', 'd1', 'xxsep', 'd1', 'n53', 'd1', 'xxsep', 'd1', 'n55', 'd1', 'xxsep', 'd2', 'n53', 'd1', 'xxsep', 'd1', 'n41', 'd1', 'xxsep', 'd1', 'n53', 'd1', 'xxsep', 'd1', 'n55', 'd1', 'xxsep', 'd1', 'n53', 'd1', 'xxsep', 'd2', 'n63', 'd1', 'xxsep', 'd1', 'n53', 'd1', 'xxsep', 'd1', 'n55', 'd1', 'xxsep', 'd2', 'n53', 'd1', 'xxsep', 'd1', 'n46', 'd1', 'xxsep', 'd1', 'n53', 'd1'], ['xxsep', 'd1', 'n59', 'd3', 'xxsep', 'd3', 'n60', 'd3', 'xxsep', 'd2', 'n62', 'd3', 'xxsep', 'd3', 'n58', 'd3', 'xxsep', 'd2', 'n60', 'd3', 'xxsep', 'd3', 'n53', 'd3', 'xxsep', 'd3', 'n60', 'd3', 'xxsep', 'd3', 'n52', 'd3', 'xxsep', 'd3', 'n60', 'd3', 'xxsep', 'd5', 'n67', 'd3', 'n59', 'd3', 'xxsep', 'd6', 'n67', 'd3', 'n60', 'd3', 'xxsep', 'd2', 'n59', 'd5', 'n55', 'd5', 'xxsep', 'd11', 'n36', 'd1', 'xxsep', 'd2', 'n40', 'd1', 'xxsep', 'd1', 'n43', 'd1', 'xxsep', 'd1'], ['xxsep', 'd1', 'n59', 'd3', 'xxsep', 'd3', 'n59', 'd1', 'xxsep', 'd1', 'n59', 'd3', 'xxsep', 'd3', 'n59', 'd1', 'xxsep', 'd2', 'n59', 'd2', 'xxsep', 'd2', 'n59', 'd3', 'xxsep', 'd3', 'n59', 'd1', 'xxsep', 'd1', 'n59', 'd3', 'xxsep', 'd3', 'n59', 'd1', 'xxsep', 'd1', 'n59', 'd2', 'xxsep', 'd2', 'n59', 'd3', 'xxsep', 'd4', 'n59', 'd3', 'xxsep', 'd4', 'n59', 'd1', 'xxsep', 'd1', 'n59', 'd2', 'xxsep', 'd2', 'n59', 'd3', 'xxsep', 'd3', 'n59', 'd1', 'xxsep', 'd1', 'n59', 'd3', 'xxsep', 'd3', 'n59', 'd1', 'xxsep', 'd1', 'n59', 'd2', 'xxsep', 'd2', 'n59', 'd3', 'xxsep', 'd4'], ['n56', 'd3', 'n51', 'd3', 'xxsep', 'd3', 'n59', 'd3', 'n56', 'd3', 'n51', 'd3', 'xxsep', 'd4', 'n59', 'd4', 'n56', 'd4', 'n51', 'd4', 'xxsep', 'd4', 'n58', 'd3', 'n55', 'd3', 'n51', 'd3', 'xxsep', 'd3', 'n58', 'd3', 'n55', 'd3', 'n51', 'd3', 'xxsep', 'd4', 'n58', 'd4', 'n55', 'd4', 'n51', 'd4', 'xxsep', 'd4', 'n44', 'd3', 'xxsep', 'd3', 'n60', 'd13', 'n56', 'd13', 'n51', 'd13', 'xxsep', 'd12', 'n61', 'd2', 'n51', 'd2', 'xxsep', 'd3', 'n44', 'd3', 'xxsep', 'd4', 'n60', 'd13', 'n56', 'd13', 'n51', 'd13', 'xxsep', 'd1'], ['xxsep', 'd3', 'n58', 'd4', 'xxsep', 'd4', 'n63', 'd2', 'xxsep', 'd4', 'n43', 'd4', 'xxsep', 'd4', 'n52', 'd4', 'xxsep', 'd4', 'n61', 'd4', 'xxsep', 'd4', 'n70', 'd4', 'xxsep', 'd4', 'n44', 'd4', 'xxsep', 'd4', 'n51', 'd4', 'xxsep', 'd4', 'n60', 'd4', 'xxsep', 'd4', 'n66', 'd4', 'xxsep', 'd4', 'n32', 'd4', 'xxsep', 'd4', 'n44', 'd4', 'xxsep', 'd1'], ['xxsep', 'd4', 'n61', 'd7', 'xxsep', 'd6', 'n62', 'd3', 'xxsep', 'd3', 'n59', 'd14', 'xxsep', 'd14', 'n54', 'd5', 'xxsep', 'd5', 'n50', 'd5', 'xxsep', 'd4', 'n47', 'd5', 'xxsep', 'd5', 'n43', 'd3', 'xxsep', 'd3'], ['xxsep', 'd2', 'n59', 'd1', 'xxsep', 'd1', 'n59', 'd3', 'xxsep', 'd3', 'n59', 'd1', 'xxsep', 'd1', 'n59', 'd2', 'xxsep', 'd2', 'n59', 'd3', 'xxsep', 'd3', 'n59', 'd1', 'xxsep', 'd1', 'n59', 'd3', 'xxsep', 'd3', 'n59', 'd1', 'xxsep', 'd1', 'n59', 'd2', 'xxsep', 'd2', 'n59', 'd3', 'xxsep', 'd4', 'n59', 'd3', 'xxsep', 'd4', 'n59', 'd1', 'xxsep', 'd1', 'n59', 'd2', 'xxsep', 'd2', 'n59', 'd3', 'xxsep', 'd3', 'n59', 'd1', 'xxsep', 'd1', 'n59', 'd3', 'xxsep', 'd3', 'n59', 'd1', 'xxsep', 'd1', 'n59', 'd2', 'xxsep', 'd2', 'n59', 'd3', 'xxsep', 'd4'], ['xxsep', 'd3', 'n32', 'd1', 'xxsep', 'd3', 'n31', 'd1', 'xxsep', 'd3', 'n32', 'd3', 'xxsep', 'd5', 'n44', 'd5', 'xxsep', 'd5', 'n56', 'd5', 'xxsep', 'd12', 'n32', 'd1', 'xxsep', 'd3', 'n32', 'd1', 'xxsep', 'd3', 'n31', 'd1', 'xxsep', 'd3', 'n32', 'd1', 'xxsep', 'd3', 'n37', 'd3', 'xxsep', 'd5', 'n44', 'd5', 'xxsep', 'd5', 'n49', 'd5', 'xxsep', 'd1'], ['xxsep', 'd1', 'n57', 'd5', 'xxsep', 'd5', 'n50', 'd5', 'xxsep', 'd5', 'n45', 'd3', 'xxsep', 'd5', 'n38', 'd3', 'xxsep', 'd15', 'n55', 'd5', 'xxsep', 'd4', 'n59', 'd5', 'xxsep', 'd5', 'n60', 'd5', 'xxsep', 'd5', 'n62', 'd5', 'xxsep', 'd3'], ['xxsep', 'd1', 'n56', 'd1', 'xxsep', 'd1', 'n56', 'd1', 'n54', 'd3', 'xxsep', 'd2', 'n56', 'd1', 'xxsep', 'd1', 'n56', 'd1', 'xxsep', 'd1', 'n56', 'd8', 'n53', 'd8', 'xxsep', 'd4', 'n61', 'd3', 'xxsep', 'd3', 'n60', 'd1', 'xxsep', 'd1', 'n60', 'd3', 'n54', 'd8', 'xxsep', 'd3', 'n58', 'd1', 'xxsep', 'd1', 'n61', 'd3', 'xxsep', 'd3', 'n58', 'd1', 'xxsep', 'd1', 'n58', 'd3', 'n49', 'd8', 'xxsep', 'd3', 'n56', 'd1', 'xxsep', 'd1', 'n61', 'd3', 'xxsep', 'd3', 'n56', 'd1', 'xxsep', 'd1', 'n56', 'd8', 'n44', 'd8', 'xxsep', 'd9', 'n37', 'd8', 'xxsep', 'd8', 'n53', 'd1', 'xxsep', 'd1'], ['xxsep', 'd7', 'n60', 'd2', 'xxsep', 'd2', 'n58', 'd2', 'xxsep', 'd2', 'n56', 'd1', 'xxsep', 'd1', 'n55', 'd2', 'xxsep', 'd2', 'n51', 'd1', 'xxsep', 'd2', 'n56', 'd2', 'xxsep', 'd2', 'n51', 'd1', 'xxsep', 'd2', 'n58', 'd2', 'xxsep', 'd1', 'n51', 'd1', 'xxsep', 'd2', 'n56', 'd2', 'xxsep', 'd12', 'n60', 'd2', 'xxsep', 'd2', 'n58', 'd2', 'xxsep', 'd2', 'n56', 'd1', 'xxsep', 'd1', 'n61', 'd2', 'xxsep', 'd2', 'n58', 'd1', 'xxsep', 'd2', 'n63', 'd2', 'xxsep', 'd2', 'n51', 'd1', 'xxsep', 'd2', 'n56', 'd2', 'xxsep', 'd2', 'n44', 'd2', 'xxsep', 'd2'], ['xxsep', 'd4', 'n54', 'd2', 'n51', 'd2', 'xxsep', 'd4', 'n56', 'd3', 'n53', 'd3', 'xxsep', 'd8', 'n42', 'd10', 'n30', 'd10', 'xxsep', 'd9', 'n75', 'd7', 'n72', 'd7', 'xxsep', 'd8', 'n77', 'd2', 'n73', 'd2', 'xxsep', 'd4', 'n49', 'd2', 'n37', 'd2', 'xxsep', 'd5', 'n51', 'd2', 'n39', 'd2', 'xxsep', 'd5', 'n53', 'd8', 'n41', 'd8', 'xxsep', 'd1'], ['xxsep', 'd1', 'n54', 'd1', 'xxsep', 'd2', 'n55', 'd3', 'xxsep', 'd6', 'n71', 'd1', 'xxsep', 'd2', 'n74', 'd1', 'xxsep', 'd1', 'n71', 'd1', 'xxsep', 'd1', 'n74', 'd1', 'xxsep', 'd1', 'n72', 'd1', 'xxsep', 'd2', 'n76', 'd1', 'xxsep', 'd1', 'n71', 'd1', 'xxsep', 'd1', 'n74', 'd1', 'xxsep', 'd1', 'n69', 'd1', 'xxsep', 'd2', 'n72', 'd1', 'xxsep', 'd1', 'n67', 'd1', 'xxsep', 'd1', 'n71', 'd1', 'xxsep', 'd2', 'n66', 'd1', 'xxsep', 'd1', 'n69', 'd1', 'xxsep', 'd1', 'n66', 'd1', 'xxsep', 'd1', 'n69', 'd1', 'xxsep', 'd2', 'n66', 'd1', 'xxsep', 'd1', 'n69', 'd1', 'xxsep', 'd1', 'n66', 'd1', 'xxsep', 'd1', 'n69', 'd1', 'xxsep', 'd2', 'n66', 'd1', 'xxsep', 'd1', 'n69', 'd1', 'xxsep', 'd1', 'n66', 'd1'], ['xxsep', 'd2', 'n56', 'd1', 'xxsep', 'd1', 'n58', 'd1', 'xxsep', 'd1', 'n56', 'd1', 'xxsep', 'd1', 'n56', 'd1', 'xxsep', 'd2', 'n55', 'd1', 'xxsep', 'd2', 'n56', 'd1', 'xxsep', 'd1', 'n58', 'd1', 'xxsep', 'd2', 'n56', 'd1', 'xxsep', 'd1', 'n55', 'd1', 'xxsep', 'd2', 'n56', 'd1', 'xxsep', 'd2', 'n58', 'd1', 'xxsep', 'd1', 'n56', 'd1', 'xxsep', 'd2', 'n55', 'd1', 'xxsep', 'd1', 'n56', 'd1', 'xxsep', 'd2', 'n55', 'd1', 'xxsep', 'd2', 'n56', 'd1', 'xxsep', 'd1', 'n55', 'd1', 'xxsep', 'd2', 'n56', 'd1', 'xxsep', 'd2', 'n58', 'd1', 'xxsep', 'd1', 'n56', 'd1', 'xxsep', 'd2', 'n55', 'd1', 'xxsep', 'd1', 'n56', 'd1', 'xxsep', 'd2', 'n55', 'd1', 'xxsep', 'd2', 'n56', 'd1', 'xxsep', 'd1', 'n58', 'd1'], ['xxsep', 'd1', 'n53', 'd1', 'xxsep', 'd2', 'n59', 'd1', 'xxsep', 'd1', 'n53', 'd1', 'xxsep', 'd2', 'n48', 'd1', 'xxsep', 'd1', 'n52', 'd1', 'xxsep', 'd2', 'n60', 'd1', 'xxsep', 'd1', 'n52', 'd1', 'xxsep', 'd1', 'n48', 'd1', 'xxsep', 'd2', 'n52', 'd1', 'xxsep', 'd1', 'n60', 'd1', 'xxsep', 'd1', 'n52', 'd1', 'xxsep', 'd2', 'n48', 'd1', 'xxsep', 'd1', 'n50', 'd1', 'xxsep', 'd2', 'n59', 'd1', 'xxsep', 'd1', 'n50', 'd1', 'xxsep', 'd2', 'n48', 'd1', 'xxsep', 'd1', 'n53', 'd1', 'xxsep', 'd1', 'n59', 'd1', 'xxsep', 'd2', 'n53', 'd1', 'xxsep', 'd1', 'n48', 'd1', 'xxsep', 'd2', 'n52', 'd1', 'xxsep', 'd1', 'n60', 'd1', 'xxsep', 'd2', 'n52', 'd1', 'xxsep', 'd1', 'n48', 'd1', 'xxsep', 'd1', 'n53', 'd1'], ['xxsep', 'd1', 'n58', 'd3', 'n49', 'd3', 'xxsep', 'd3', 'n58', 'd3', 'n49', 'd3', 'xxsep', 'd3', 'n46', 'd8', 'xxsep', 'd2', 'n61', 'd3', 'n54', 'd3', 'xxsep', 'd3', 'n61', 'd3', 'n54', 'd3', 'xxsep', 'd3', 'n47', 'd3', 'xxsep', 'd2', 'n63', 'd3', 'n56', 'd3', 'n54', 'd3', 'xxsep', 'd3', 'n63', 'd3', 'n56', 'd3', 'n54', 'd3', 'xxsep', 'd3', 'n49', 'd9', 'xxsep', 'd3', 'n59', 'd3', 'n53', 'd3', 'xxsep', 'd3', 'n59', 'd3', 'n53', 'd3', 'xxsep', 'd3', 'n42', 'd3', 'xxsep', 'd3', 'n58', 'd3', 'n49', 'd3', 'xxsep', 'd3', 'n58', 'd3', 'n49', 'd3', 'xxsep', 'd3', 'n46', 'd10', 'xxsep', 'd3', 'n61', 'd4', 'n54', 'd4', 'xxsep', 'd4', 'n61', 'd3', 'n54', 'd3', 'xxsep', 'd3', 'n47', 'd3'], ['xxsep', 'd4', 'n56', 'd5', 'xxsep', 'd4', 'n58', 'd5', 'xxsep', 'd5', 'n59', 'd5', 'xxsep', 'd5', 'n60', 'd15', 'n48', 'd15', 'xxsep', 'd24', 'n44', 'd5', 'xxsep', 'd5', 'n46', 'd5', 'xxsep', 'd1'], ['xxsep', 'd1', 'n62', 'd1', 'xxsep', 'd2', 'n58', 'd1', 'xxsep', 'd2', 'n53', 'd1', 'xxsep', 'd1', 'n50', 'd1', 'xxsep', 'd2', 'n46', 'd1', 'xxsep', 'd1', 'n41', 'd1', 'xxsep', 'd2', 'n46', 'd1', 'xxsep', 'd2', 'n50', 'd1', 'xxsep', 'd2', 'n53', 'd1', 'xxsep', 'd1', 'n65', 'd3', 'n62', 'd3', 'n53', 'd3', 'xxsep', 'd5', 'n79', 'd3', 'n75', 'd3', 'n65', 'd3', 'xxsep', 'd5', 'n75', 'd3', 'n72', 'd3', 'n65', 'd3', 'xxsep', 'd5', 'n75', 'd3', 'n72', 'd3', 'n65', 'd3', 'xxsep', 'd5', 'n74', 'd3', 'n71', 'd3', 'n65', 'd3', 'xxsep', 'd5', 'n74', 'd3', 'n71', 'd3', 'n65', 'd3', 'xxsep', 'd5', 'n74', 'd3', 'n71', 'd3', 'n65', 'd3', 'xxsep', 'd5', 'n74', 'd3', 'n71', 'd3', 'n65', 'd3'], ['xxsep', 'd1', 'n59', 'd2', 'xxsep', 'd2', 'n59', 'd2', 'xxsep', 'd2', 'n47', 'd2', 'xxsep', 'd2', 'n55', 'd2', 'xxsep', 'd2', 'n50', 'd2', 'xxsep', 'd3', 'n55', 'd3', 'xxsep', 'd2', 'n52', 'd9', 'n48', 'd17', 'xxsep', 'd8', 'n55', 'd17', 'xxsep', 'd9', 'n52', 'd9', 'xxsep', 'd9', 'n55', 'd9', 'n50', 'd17', 'xxsep', 'd8', 'n54', 'd9', 'xxsep', 'd1'], ['xxsep', 'd1', 'n64', 'd1', 'xxsep', 'd1', 'n67', 'd1', 'xxsep', 'd2', 'n66', 'd1', 'xxsep', 'd1', 'n69', 'd1', 'xxsep', 'd1', 'n66', 'd1', 'xxsep', 'd1', 'n69', 'd1', 'xxsep', 'd1', 'n66', 'd1', 'xxsep', 'd2', 'n69', 'd1', 'xxsep', 'd1', 'n66', 'd1', 'xxsep', 'd1', 'n69', 'd1', 'xxsep', 'd2', 'n66', 'd1', 'xxsep', 'd1', 'n69', 'd1', 'xxsep', 'd1', 'n60', 'd1', 'xxsep', 'd2', 'n69', 'd1', 'xxsep', 'd1', 'n66', 'd1', 'xxsep', 'd1', 'n69', 'd1', 'xxsep', 'd2', 'n60', 'd1', 'xxsep', 'd1', 'n69', 'd1', 'xxsep', 'd1', 'n66', 'd1', 'xxsep', 'd2', 'n69', 'd1', 'xxsep', 'd1', 'n60', 'd1', 'xxsep', 'd1', 'n69', 'd1', 'xxsep', 'd1', 'n66', 'd1', 'xxsep', 'd2', 'n69', 'd1', 'xxsep', 'd1', 'n59', 'd1'], ['xxsep', 'd1', 'n55', 'd1', 'xxsep', 'd1', 'n60', 'd3', 'xxsep', 'd8', 'n41', 'd1', 'xxsep', 'd1', 'n45', 'd1', 'xxsep', 'd1', 'n48', 'd1', 'xxsep', 'd1', 'n53', 'd3', 'xxsep', 'd8', 'n45', 'd1', 'xxsep', 'd1', 'n49', 'd1', 'xxsep', 'd1', 'n52', 'd1', 'xxsep', 'd1', 'n53', 'd3', 'xxsep', 'd8'], ['xxsep', 'd1', 'n59', 'd1', 'xxsep', 'd2', 'n55', 'd1', 'xxsep', 'd1', 'n60', 'd3', 'xxsep', 'd5', 'n62', 'd1', 'xxsep', 'd2', 'n59', 'd1', 'xxsep', 'd1', 'n55', 'd1', 'xxsep', 'd2', 'n60', 'd3', 'xxsep', 'd20', 'n45', 'd2', 'xxsep', 'd2', 'n48', 'd2', 'xxsep', 'd2', 'n51', 'd2', 'xxsep', 'd1', 'n50', 'd2', 'xxsep', 'd2', 'n48', 'd3', 'xxsep', 'd3'], ['xxsep', 'd3', 'n51', 'd1', 'xxsep', 'd4', 'n39', 'd2', 'xxsep', 'd41'], ['xxsep', 'd1', 'n51', 'd3', 'n39', 'd3', 'xxsep', 'd3', 'n58', 'd4', 'n55', 'd4', 'xxsep', 'd1', 'n67', 'd3', 'n63', 'd3', 'xxsep', 'd7', 'n46', 'd2', 'xxsep', 'd4', 'n62', 'd3', 'n58', 'd3', 'n53', 'd3', 'xxsep', 'd3', 'n62', 'd3', 'n58', 'd3', 'n53', 'd3', 'xxsep', 'd4', 'n41', 'd2', 'xxsep', 'd4', 'n63', 'd3', 'n60', 'd3', 'n53', 'd3', 'xxsep', 'd3', 'n63', 'd3', 'n60', 'd3', 'n53', 'd3', 'xxsep', 'd4', 'n46', 'd2', 'xxsep', 'd3', 'n62', 'd3', 'n58', 'd3', 'n53', 'd3', 'xxsep', 'd4', 'n62', 'd4', 'n58', 'd4', 'n53', 'd4', 'xxsep', 'd3', 'n46', 'd2', 'xxsep', 'd4', 'n63', 'd3', 'n60', 'd3', 'n53', 'd3', 'xxsep', 'd4', 'n63', 'd3', 'n60', 'd3', 'n53', 'd3', 'xxsep', 'd3'], ['xxsep', 'd3', 'n48', 'd1', 'xxsep', 'd1', 'n47', 'd1', 'xxsep', 'd1', 'n48', 'd1', 'xxsep', 'd1', 'n56', 'd1', 'xxsep', 'd1', 'n48', 'd1', 'xxsep', 'd1', 'n48', 'd1', 'xxsep', 'd1', 'n56', 'd1', 'xxsep', 'd2', 'n48', 'd1', 'xxsep', 'd1', 'n51', 'd1', 'xxsep', 'd1', 'n56', 'd1', 'xxsep', 'd1', 'n48', 'd1', 'xxsep', 'd2', 'n51', 'd1', 'xxsep', 'd1', 'n56', 'd1', 'xxsep', 'd1', 'n48', 'd1', 'xxsep', 'd1', 'n51', 'd1', 'xxsep', 'd2', 'n56', 'd1', 'xxsep', 'd1', 'n48', 'd1', 'xxsep', 'd1', 'n51', 'd1', 'xxsep', 'd2', 'n56', 'd1', 'xxsep', 'd1', 'n48', 'd1', 'xxsep', 'd1', 'n51', 'd1', 'xxsep', 'd2', 'n56', 'd1', 'xxsep', 'd1', 'n48', 'd1', 'xxsep', 'd1', 'n51', 'd1', 'xxsep', 'd2', 'n56', 'd1'], ['xxsep', 'd1', 'n56', 'd1', 'xxsep', 'd1', 'n56', 'd1', 'xxsep', 'd1', 'n56', 'd1', 'xxsep', 'd2', 'n56', 'd1', 'xxsep', 'd2', 'n58', 'd1', 'xxsep', 'd1', 'n59', 'd1', 'xxsep', 'd2', 'n61', 'd1', 'n51', 'd1', 'xxsep', 'd1', 'n63', 'd1', 'n61', 'd1', 'xxsep', 'd2', 'n63', 'd1', 'n61', 'd1', 'xxsep', 'd1', 'n63', 'd1', 'n61', 'd1', 'xxsep', 'd2', 'n63', 'd1', 'n61', 'd1', 'xxsep', 'd1', 'n63', 'd1', 'n61', 'd1', 'xxsep', 'd2', 'n63', 'd1', 'n61', 'd1', 'xxsep', 'd2', 'n63', 'd1', 'n61', 'd1', 'xxsep', 'd1', 'n63', 'd1', 'n59', 'd1', 'xxsep', 'd2', 'n63', 'd1', 'n58', 'd1', 'xxsep', 'd1', 'n44', 'd1', 'xxsep', 'd2', 'n59', 'd1', 'n56', 'd1', 'xxsep', 'd1', 'n59', 'd1', 'n56', 'd1'], ['xxsep', 'd1', 'n53', 'd1', 'xxsep', 'd2', 'n59', 'd1', 'xxsep', 'd1', 'n53', 'd1', 'xxsep', 'd2', 'n48', 'd1', 'xxsep', 'd1', 'n52', 'd1', 'xxsep', 'd2', 'n60', 'd1', 'xxsep', 'd1', 'n52', 'd1', 'xxsep', 'd1', 'n48', 'd1', 'xxsep', 'd2', 'n52', 'd1', 'xxsep', 'd1', 'n60', 'd1', 'xxsep', 'd1', 'n52', 'd1', 'xxsep', 'd2', 'n48', 'd1', 'xxsep', 'd1', 'n50', 'd1', 'xxsep', 'd2', 'n59', 'd1', 'xxsep', 'd1', 'n50', 'd1', 'xxsep', 'd2', 'n48', 'd1', 'xxsep', 'd1', 'n53', 'd1', 'xxsep', 'd1', 'n59', 'd1', 'xxsep', 'd2', 'n53', 'd1', 'xxsep', 'd1', 'n48', 'd1', 'xxsep', 'd2', 'n52', 'd1', 'xxsep', 'd1', 'n60', 'd1', 'xxsep', 'd2', 'n52', 'd1', 'xxsep', 'd1', 'n48', 'd1', 'xxsep', 'd1', 'n53', 'd1'], ['xxsep', 'd1', 'n47', 'd2', 'xxsep', 'd2', 'n35', 'd2', 'xxsep', 'd2', 'n47', 'd2', 'xxsep', 'd2', 'n37', 'd2', 'xxsep', 'd2', 'n37', 'd2', 'xxsep', 'd2', 'n37', 'd2', 'xxsep', 'd2', 'n37', 'd2', 'xxsep', 'd2', 'n37', 'd2', 'xxsep', 'd2', 'n37', 'd2', 'xxsep', 'd2', 'n37', 'd2', 'xxsep', 'd2', 'n37', 'd2', 'xxsep', 'd2', 'n37', 'd2', 'xxsep', 'd2', 'n37', 'd2', 'xxsep', 'd2', 'n37', 'd2', 'xxsep', 'd2', 'n37', 'd2', 'xxsep', 'd2', 'n37', 'd2', 'xxsep', 'd2', 'n37', 'd2', 'xxsep', 'd2', 'n37', 'd2', 'xxsep', 'd2', 'n37', 'd2', 'xxsep', 'd2', 'n37', 'd2', 'xxsep', 'd2', 'n37', 'd2', 'xxsep', 'd2', 'n37', 'd2', 'xxsep', 'd2', 'n37', 'd2', 'xxsep', 'd2', 'n37', 'd2', 'xxsep', 'd2', 'n37', 'd2'], ['xxsep', 'd1', 'n68', 'd2', 'n59', 'd2', 'n56', 'd2', 'xxsep', 'd2', 'n52', 'd2', 'xxsep', 'd2', 'n69', 'd2', 'n60', 'd2', 'n57', 'd2', 'xxsep', 'd3', 'n69', 'd2', 'n60', 'd2', 'n57', 'd2', 'xxsep', 'd2', 'n69', 'd2', 'n60', 'd2', 'n57', 'd2', 'xxsep', 'd2', 'n69', 'd2', 'n60', 'd2', 'n57', 'd2', 'xxsep', 'd2', 'n69', 'd2', 'n60', 'd2', 'n57', 'd2', 'xxsep', 'd2', 'n69', 'd2', 'n60', 'd2', 'n57', 'd2', 'xxsep', 'd2', 'n69', 'd2', 'n60', 'd2', 'n57', 'd2', 'xxsep', 'd2', 'n69', 'd2', 'n60', 'd2', 'n57', 'd2', 'xxsep', 'd2', 'n69', 'd2', 'n60', 'd2', 'n57', 'd2', 'xxsep', 'd2', 'n69', 'd2', 'n60', 'd2', 'n57', 'd2', 'xxsep', 'd2', 'n69', 'd2', 'n60', 'd2', 'n57', 'd2'], ['xxsep', 'd4', 'n50', 'd11', 'n43', 'd11', 'xxsep', 'd12', 'n50', 'd11', 'n43', 'd11', 'xxsep', 'd11', 'n50', 'd11', 'n43', 'd11', 'xxsep', 'd11', 'n50', 'd11', 'n43', 'd11', 'xxsep', 'd12']]\n"
     ]
    }
   ],
   "source": [
    "new_left = []\n",
    "for c in left:\n",
    "    print(c)\n",
    "    print(clearExceed(left))"
   ]
  },
  {
   "cell_type": "code",
   "execution_count": 34,
   "metadata": {},
   "outputs": [
    {
     "output_type": "execute_result",
     "data": {
      "text/plain": [
       "0"
      ]
     },
     "metadata": {},
     "execution_count": 34
    }
   ],
   "source": [
    "left[0].index('xxsep')"
   ]
  },
  {
   "cell_type": "code",
   "execution_count": 36,
   "metadata": {},
   "outputs": [
    {
     "output_type": "execute_result",
     "data": {
      "text/plain": [
       "['xxsep',\n",
       " 'd3',\n",
       " 'n51',\n",
       " 'd3',\n",
       " 'xxsep',\n",
       " 'd2',\n",
       " 'n50',\n",
       " 'd3',\n",
       " 'xxsep',\n",
       " 'd3',\n",
       " 'n48',\n",
       " 'd11',\n",
       " 'xxsep',\n",
       " 'd13',\n",
       " 'n63',\n",
       " 'd2',\n",
       " 'n60',\n",
       " 'd2',\n",
       " 'xxsep',\n",
       " 'd2',\n",
       " 'n63',\n",
       " 'd2',\n",
       " 'n60',\n",
       " 'd2',\n",
       " 'xxsep',\n",
       " 'd3',\n",
       " 'n63',\n",
       " 'd2',\n",
       " 'n60',\n",
       " 'd2',\n",
       " 'xxsep',\n",
       " 'd2',\n",
       " 'n62',\n",
       " 'd11',\n",
       " 'n58',\n",
       " 'd11',\n",
       " 'xxsep',\n",
       " 'd13',\n",
       " 'n67',\n",
       " 'd2',\n",
       " 'n64',\n",
       " 'd2',\n",
       " 'xxsep',\n",
       " 'd3',\n",
       " 'n67',\n",
       " 'd2',\n",
       " 'n64',\n",
       " 'd2',\n",
       " 'xxsep',\n",
       " 'd3',\n",
       " 'n67',\n",
       " 'd2',\n",
       " 'n64',\n",
       " 'd2',\n",
       " 'xxsep',\n",
       " 'd1']"
      ]
     },
     "metadata": {},
     "execution_count": 36
    }
   ],
   "source": [
    "left[0]"
   ]
  },
  {
   "cell_type": "code",
   "execution_count": 38,
   "metadata": {},
   "outputs": [
    {
     "output_type": "execute_result",
     "data": {
      "text/plain": [
       "['xxsep',\n",
       " 'd3',\n",
       " 'n51',\n",
       " 'd3',\n",
       " 'xxsep',\n",
       " 'd2',\n",
       " 'n50',\n",
       " 'd3',\n",
       " 'xxsep',\n",
       " 'd3',\n",
       " 'n48',\n",
       " 'd11',\n",
       " 'xxsep',\n",
       " 'd13',\n",
       " 'n63',\n",
       " 'd2',\n",
       " 'n60',\n",
       " 'd2',\n",
       " 'xxsep',\n",
       " 'd2',\n",
       " 'n63',\n",
       " 'd2',\n",
       " 'n60',\n",
       " 'd2',\n",
       " 'xxsep',\n",
       " 'd3',\n",
       " 'n63',\n",
       " 'd2',\n",
       " 'n60',\n",
       " 'd2',\n",
       " 'xxsep',\n",
       " 'd2',\n",
       " 'n62',\n",
       " 'd11',\n",
       " 'n58',\n",
       " 'd11',\n",
       " 'xxsep',\n",
       " 'd13',\n",
       " 'n67',\n",
       " 'd2',\n",
       " 'n64',\n",
       " 'd2',\n",
       " 'xxsep',\n",
       " 'd3',\n",
       " 'n67',\n",
       " 'd2',\n",
       " 'n64',\n",
       " 'd2',\n",
       " 'xxsep',\n",
       " 'd3',\n",
       " 'n67',\n",
       " 'd2',\n",
       " 'n64',\n",
       " 'd2',\n",
       " 'xxsep',\n",
       " 'd1']"
      ]
     },
     "metadata": {},
     "execution_count": 38
    }
   ],
   "source": [
    "left[0::-1][0]"
   ]
  },
  {
   "cell_type": "code",
   "execution_count": 23,
   "metadata": {},
   "outputs": [
    {
     "output_type": "error",
     "ename": "ValueError",
     "evalue": "'xxsep' is not in list",
     "traceback": [
      "\u001b[0;31m---------------------------------------------------------------------------\u001b[0m",
      "\u001b[0;31mValueError\u001b[0m                                Traceback (most recent call last)",
      "\u001b[0;32m<ipython-input-23-1a1aeb0e01e4>\u001b[0m in \u001b[0;36m<module>\u001b[0;34m\u001b[0m\n\u001b[0;32m----> 1\u001b[0;31m \u001b[0mleft\u001b[0m\u001b[0;34m[\u001b[0m\u001b[0;36m0\u001b[0m\u001b[0;34m:\u001b[0m\u001b[0;34m:\u001b[0m\u001b[0;34m-\u001b[0m\u001b[0;36m1\u001b[0m\u001b[0;34m]\u001b[0m\u001b[0;34m.\u001b[0m\u001b[0mindex\u001b[0m\u001b[0;34m(\u001b[0m\u001b[0;34m'xxsep'\u001b[0m\u001b[0;34m)\u001b[0m\u001b[0;34m\u001b[0m\u001b[0;34m\u001b[0m\u001b[0m\n\u001b[0m",
      "\u001b[0;31mValueError\u001b[0m: 'xxsep' is not in list"
     ]
    }
   ],
   "source": [
    "left[0::-1].index('xxsep',-1)"
   ]
  },
  {
   "cell_type": "code",
   "execution_count": 16,
   "metadata": {},
   "outputs": [
    {
     "output_type": "error",
     "ename": "ValueError",
     "evalue": "'xxsep' is not in list",
     "traceback": [
      "\u001b[0;31m---------------------------------------------------------------------------\u001b[0m",
      "\u001b[0;31mValueError\u001b[0m                                Traceback (most recent call last)",
      "\u001b[0;32m<ipython-input-16-1a1aeb0e01e4>\u001b[0m in \u001b[0;36m<module>\u001b[0;34m\u001b[0m\n\u001b[0;32m----> 1\u001b[0;31m \u001b[0mleft\u001b[0m\u001b[0;34m[\u001b[0m\u001b[0;36m0\u001b[0m\u001b[0;34m:\u001b[0m\u001b[0;34m:\u001b[0m\u001b[0;34m-\u001b[0m\u001b[0;36m1\u001b[0m\u001b[0;34m]\u001b[0m\u001b[0;34m.\u001b[0m\u001b[0mindex\u001b[0m\u001b[0;34m(\u001b[0m\u001b[0;34m'xxsep'\u001b[0m\u001b[0;34m)\u001b[0m\u001b[0;34m\u001b[0m\u001b[0;34m\u001b[0m\u001b[0m\n\u001b[0m",
      "\u001b[0;31mValueError\u001b[0m: 'xxsep' is not in list"
     ]
    }
   ],
   "source": []
  },
  {
   "cell_type": "code",
   "execution_count": 17,
   "metadata": {},
   "outputs": [
    {
     "output_type": "execute_result",
     "data": {
      "text/plain": [
       "['xxsep d3 n51 d3 xxsep d2 n50 d3 xxsep d3 n48 d11 xxsep d13 n63 d2 n60 d2 xxsep d2 n63 d2 n60 d2 xxsep d3 n63 d2 n60 d2 xxsep d2 n62 d11 n58 d11 xxsep d13 n67 d2 n64 d2 xxsep d3 n67 d2 n64 d2 xxsep d3 n67 d2 n64 d2 xxsep d1']"
      ]
     },
     "metadata": {},
     "execution_count": 17
    }
   ],
   "source": [
    "left[0::-1].index('xxs')"
   ]
  },
  {
   "cell_type": "code",
   "execution_count": null,
   "metadata": {},
   "outputs": [],
   "source": []
  }
 ]
}