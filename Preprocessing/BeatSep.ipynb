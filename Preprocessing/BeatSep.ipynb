{
  "nbformat": 4,
  "nbformat_minor": 0,
  "metadata": {
    "colab": {
      "name": "BeatSep.ipynb",
      "provenance": [],
      "collapsed_sections": []
    },
    "kernelspec": {
      "name": "python3",
      "display_name": "Python 3"
    },
    "language_info": {
      "name": "python"
    }
  },
  "cells": [
    {
      "cell_type": "code",
      "metadata": {
        "id": "i6VZ-Q5UB3RY"
      },
      "source": [
        "%matplotlib inline\n",
        "import pandas as pd\n",
        "import sklearn\n",
        "import numpy as np\n",
        "from IPython.display import display\n",
        "\n",
        "import matplotlib.pyplot as plt"
      ],
      "execution_count": null,
      "outputs": []
    },
    {
      "cell_type": "code",
      "metadata": {
        "colab": {
          "base_uri": "https://localhost:8080/"
        },
        "id": "O7qiYMELD2O1",
        "outputId": "754e9b91-b164-4212-e7d1-2a2ba3d1265a"
      },
      "source": [
        "from google.colab import drive\n",
        "drive.mount('/content/drive')"
      ],
      "execution_count": null,
      "outputs": [
        {
          "output_type": "stream",
          "text": [
            "Drive already mounted at /content/drive; to attempt to forcibly remount, call drive.mount(\"/content/drive\", force_remount=True).\n"
          ],
          "name": "stdout"
        }
      ]
    },
    {
      "cell_type": "code",
      "metadata": {
        "colab": {
          "base_uri": "https://localhost:8080/"
        },
        "id": "2rYj_VGAB9Sg",
        "outputId": "3b7da768-abfd-484a-90a7-83c485a9b6b7"
      },
      "source": [
        "%cd /content/drive/Shareddrives/NLPFinalProject/datasets"
      ],
      "execution_count": null,
      "outputs": [
        {
          "output_type": "stream",
          "text": [
            "/content/drive/Shareddrives/NLPFinalProject/datasets\n"
          ],
          "name": "stdout"
        }
      ]
    },
    {
      "cell_type": "code",
      "metadata": {
        "id": "RrjKH-Y3B_It"
      },
      "source": [
        "df = pd.read_csv('super_data_fixed_full_48.csv')\n",
        "# test['right_split'] = test['right_split'].apply(lambda x: eval(x))\n",
        "# test['left_split'] = test['left_split'].apply(lambda x : eval(x))\n",
        "for col in ['right_sep_4', 'left_sep_4', 'right_sep_12', 'left_sep_12', 'right_sep_36', 'left_sep_36','right_sep_48','left_sep_48']:\n",
        "  df[col] = df[col].apply(lambda x: eval(x))"
      ],
      "execution_count": null,
      "outputs": []
    },
    {
      "cell_type": "code",
      "metadata": {
        "colab": {
          "base_uri": "https://localhost:8080/",
          "height": 1000
        },
        "id": "SRMaI34ZpBNi",
        "outputId": "2d69eb20-81db-4dbc-ac8a-f55bb8959059"
      },
      "source": [
        "df"
      ],
      "execution_count": null,
      "outputs": [
        {
          "output_type": "execute_result",
          "data": {
            "text/html": [
              "<div>\n",
              "<style scoped>\n",
              "    .dataframe tbody tr th:only-of-type {\n",
              "        vertical-align: middle;\n",
              "    }\n",
              "\n",
              "    .dataframe tbody tr th {\n",
              "        vertical-align: top;\n",
              "    }\n",
              "\n",
              "    .dataframe thead th {\n",
              "        text-align: right;\n",
              "    }\n",
              "</style>\n",
              "<table border=\"1\" class=\"dataframe\">\n",
              "  <thead>\n",
              "    <tr style=\"text-align: right;\">\n",
              "      <th></th>\n",
              "      <th>name</th>\n",
              "      <th>right_note</th>\n",
              "      <th>left_note</th>\n",
              "      <th>right_beat</th>\n",
              "      <th>left_beat</th>\n",
              "      <th>right</th>\n",
              "      <th>left</th>\n",
              "      <th>right_sep_4</th>\n",
              "      <th>left_sep_4</th>\n",
              "      <th>right_sep_12</th>\n",
              "      <th>left_sep_12</th>\n",
              "      <th>right_sep_36</th>\n",
              "      <th>left_sep_36</th>\n",
              "      <th>right_sep_48</th>\n",
              "      <th>left_sep_48</th>\n",
              "    </tr>\n",
              "  </thead>\n",
              "  <tbody>\n",
              "    <tr>\n",
              "      <th>0</th>\n",
              "      <td>DEB_CLAI</td>\n",
              "      <td>['xxbos', 'xxpad', 'xxsep', 'd10', 'n80', 'd14...</td>\n",
              "      <td>['xxbos', 'xxpad', 'xxsep', 'd3', 'n68', 'd32'...</td>\n",
              "      <td>[   0    0    0    0 ... 1951 1951 1952 1952]</td>\n",
              "      <td>[   0    0    0    0 ... 1946 1946 1947 1947]</td>\n",
              "      <td>(['xxbos', 'xxpad', 'xxsep', 'd10', 'n80', 'd1...</td>\n",
              "      <td>(['xxbos', 'xxpad', 'xxsep', 'd3', 'n68', 'd32...</td>\n",
              "      <td>[[, xxbos, xxpad, xxsep, d10], [], [n80, d14, ...</td>\n",
              "      <td>[[, xxbos, xxpad, xxsep, d3, n68, d32, n65, d3...</td>\n",
              "      <td>[[, xxbos, xxpad, xxsep, d10, n80, d14, n77, d...</td>\n",
              "      <td>[[, xxbos, xxpad, xxsep, d3, n68, d32, n65, d3...</td>\n",
              "      <td>[[, xxbos, xxpad, xxsep, d10, n80, d14, n77, d...</td>\n",
              "      <td>[[, xxbos, xxpad, xxsep, d3, n68, d32, n65, d3...</td>\n",
              "      <td>[[, xxbos, xxpad, xxsep, d10, n80, d14, n77, d...</td>\n",
              "      <td>[[, xxbos, xxpad, xxsep, d3, n68, d32, n65, d3...</td>\n",
              "    </tr>\n",
              "    <tr>\n",
              "      <th>1</th>\n",
              "      <td>DEB_PASS</td>\n",
              "      <td>['xxbos', 'xxpad', 'xxsep', 'd22', 'n66', 'd2'...</td>\n",
              "      <td>['xxbos', 'xxpad', 'n42', 'd1', 'xxsep', 'd1',...</td>\n",
              "      <td>[   0    0    0    0 ... 1731 1731 1731 1731]</td>\n",
              "      <td>[   0    0    0    0 ... 1731 1731 1731 1731]</td>\n",
              "      <td>(['xxbos', 'xxpad', 'xxsep', 'd22', 'n66', 'd2...</td>\n",
              "      <td>(['xxbos', 'xxpad', 'n42', 'd1', 'xxsep', 'd1'...</td>\n",
              "      <td>[[, xxbos, xxpad, xxsep, d22], [], [], [], [],...</td>\n",
              "      <td>[[, xxbos, xxpad, n42, d1, xxsep, d1, n49, d1,...</td>\n",
              "      <td>[[, xxbos, xxpad, xxsep, d22], [n66, d2, xxsep...</td>\n",
              "      <td>[[, xxbos, xxpad, n42, d1, xxsep, d1, n49, d1,...</td>\n",
              "      <td>[[, xxbos, xxpad, xxsep, d22, n66, d2, xxsep, ...</td>\n",
              "      <td>[[, xxbos, xxpad, n42, d1, xxsep, d1, n49, d1,...</td>\n",
              "      <td>[[, xxbos, xxpad, xxsep, d22, n66, d2, xxsep, ...</td>\n",
              "      <td>[[, xxbos, xxpad, n42, d1, xxsep, d1, n49, d1,...</td>\n",
              "    </tr>\n",
              "    <tr>\n",
              "      <th>2</th>\n",
              "      <td>alb_esp1</td>\n",
              "      <td>['xxbos', 'xxpad', 'xxsep', 'd3', 'n81', 'd3',...</td>\n",
              "      <td>['xxbos', 'xxpad', 'xxsep', 'd3', 'n57', 'd3',...</td>\n",
              "      <td>[  0   0   0   0 ... 731 731 731 731]</td>\n",
              "      <td>[  0   0   0   0 ... 731 731 731 731]</td>\n",
              "      <td>(['xxbos', 'xxpad', 'xxsep', 'd3', 'n81', 'd3'...</td>\n",
              "      <td>(['xxbos', 'xxpad', 'xxsep', 'd3', 'n57', 'd3'...</td>\n",
              "      <td>[[, xxbos, xxpad, xxsep, d3, n81, d3, xxsep, d...</td>\n",
              "      <td>[[, xxbos, xxpad, xxsep, d3, n57, d3, xxsep, d...</td>\n",
              "      <td>[[, xxbos, xxpad, xxsep, d3, n81, d3, xxsep, d...</td>\n",
              "      <td>[[, xxbos, xxpad, xxsep, d3, n57, d3, xxsep, d...</td>\n",
              "      <td>[[, xxbos, xxpad, xxsep, d3, n81, d3, xxsep, d...</td>\n",
              "      <td>[[, xxbos, xxpad, xxsep, d3, n57, d3, xxsep, d...</td>\n",
              "      <td>[[, xxbos, xxpad, xxsep, d3, n81, d3, xxsep, d...</td>\n",
              "      <td>[[, xxbos, xxpad, xxsep, d3, n57, d3, xxsep, d...</td>\n",
              "    </tr>\n",
              "    <tr>\n",
              "      <th>3</th>\n",
              "      <td>alb_esp2</td>\n",
              "      <td>['xxbos', 'xxpad', 'xxsep', 'd6', 'n57', 'd2',...</td>\n",
              "      <td>['xxbos', 'xxpad', 'n50', 'd11', 'n38', 'd11',...</td>\n",
              "      <td>[  0   0   0   0 ... 980 980 980 980]</td>\n",
              "      <td>[  0   0   0   0 ... 980 980 980 980]</td>\n",
              "      <td>(['xxbos', 'xxpad', 'xxsep', 'd6', 'n57', 'd2'...</td>\n",
              "      <td>(['xxbos', 'xxpad', 'n50', 'd11', 'n38', 'd11'...</td>\n",
              "      <td>[[, xxbos, xxpad, xxsep, d6], [n57, d2, xxsep,...</td>\n",
              "      <td>[[, xxbos, xxpad, n50, d11, n38, d11, xxsep, d...</td>\n",
              "      <td>[[, xxbos, xxpad, xxsep, d6, n57, d2, xxsep, d...</td>\n",
              "      <td>[[, xxbos, xxpad, n50, d11, n38, d11, xxsep, d...</td>\n",
              "      <td>[[, xxbos, xxpad, xxsep, d6, n57, d2, xxsep, d...</td>\n",
              "      <td>[[, xxbos, xxpad, n50, d11, n38, d11, xxsep, d...</td>\n",
              "      <td>[[, xxbos, xxpad, xxsep, d6, n57, d2, xxsep, d...</td>\n",
              "      <td>[[, xxbos, xxpad, n50, d11, n38, d11, xxsep, d...</td>\n",
              "    </tr>\n",
              "    <tr>\n",
              "      <th>4</th>\n",
              "      <td>alb_esp3</td>\n",
              "      <td>['xxbos', 'xxpad', 'n71', 'd1', 'xxsep', 'd2',...</td>\n",
              "      <td>['xxbos', 'xxpad', 'n59', 'd1', 'xxsep', 'd2',...</td>\n",
              "      <td>[   0    0    0    0 ... 1362 1362 1362 1362]</td>\n",
              "      <td>[   0    0    0    0 ... 1362 1362 1362 1362]</td>\n",
              "      <td>(['xxbos', 'xxpad', 'n71', 'd1', 'xxsep', 'd2'...</td>\n",
              "      <td>(['xxbos', 'xxpad', 'n59', 'd1', 'xxsep', 'd2'...</td>\n",
              "      <td>[[, xxbos, xxpad, n71, d1, xxsep, d2, n75, d1,...</td>\n",
              "      <td>[[, xxbos, xxpad, n59, d1, xxsep, d2, n63, d1,...</td>\n",
              "      <td>[[, xxbos, xxpad, n71, d1, xxsep, d2, n75, d1,...</td>\n",
              "      <td>[[, xxbos, xxpad, n59, d1, xxsep, d2, n63, d1,...</td>\n",
              "      <td>[[, xxbos, xxpad, n71, d1, xxsep, d2, n75, d1,...</td>\n",
              "      <td>[[, xxbos, xxpad, n59, d1, xxsep, d2, n63, d1,...</td>\n",
              "      <td>[[, xxbos, xxpad, n71, d1, xxsep, d2, n75, d1,...</td>\n",
              "      <td>[[, xxbos, xxpad, n59, d1, xxsep, d2, n63, d1,...</td>\n",
              "    </tr>\n",
              "    <tr>\n",
              "      <th>...</th>\n",
              "      <td>...</td>\n",
              "      <td>...</td>\n",
              "      <td>...</td>\n",
              "      <td>...</td>\n",
              "      <td>...</td>\n",
              "      <td>...</td>\n",
              "      <td>...</td>\n",
              "      <td>...</td>\n",
              "      <td>...</td>\n",
              "      <td>...</td>\n",
              "      <td>...</td>\n",
              "      <td>...</td>\n",
              "      <td>...</td>\n",
              "      <td>...</td>\n",
              "      <td>...</td>\n",
              "    </tr>\n",
              "    <tr>\n",
              "      <th>278</th>\n",
              "      <td>ty_november</td>\n",
              "      <td>['xxbos', 'xxpad', 'n73', 'd3', 'xxsep', 'd3',...</td>\n",
              "      <td>['xxbos', 'xxpad', 'n61', 'd3', 'xxsep', 'd3',...</td>\n",
              "      <td>[   0    0    0    0 ... 1381 1381 1384 1384]</td>\n",
              "      <td>[   0    0    0    0 ... 1356 1356 1361 1361]</td>\n",
              "      <td>(['xxbos', 'xxpad', 'n73', 'd3', 'xxsep', 'd3'...</td>\n",
              "      <td>(['xxbos', 'xxpad', 'n61', 'd3', 'xxsep', 'd3'...</td>\n",
              "      <td>[[, xxbos, xxpad, n73, d3, xxsep, d3, n71, d3,...</td>\n",
              "      <td>[[, xxbos, xxpad, n61, d3, xxsep, d3, n59, d3,...</td>\n",
              "      <td>[[, xxbos, xxpad, n73, d3, xxsep, d3, n71, d3,...</td>\n",
              "      <td>[[, xxbos, xxpad, n61, d3, xxsep, d3, n59, d3,...</td>\n",
              "      <td>[[, xxbos, xxpad, n73, d3, xxsep, d3, n71, d3,...</td>\n",
              "      <td>[[, xxbos, xxpad, n61, d3, xxsep, d3, n59, d3,...</td>\n",
              "      <td>[[, xxbos, xxpad, n73, d3, xxsep, d3, n71, d3,...</td>\n",
              "      <td>[[, xxbos, xxpad, n61, d3, xxsep, d3, n59, d3,...</td>\n",
              "    </tr>\n",
              "    <tr>\n",
              "      <th>279</th>\n",
              "      <td>ty_oktober</td>\n",
              "      <td>['xxbos', 'xxpad', 'n69', 'd13', 'n65', 'd13',...</td>\n",
              "      <td>['xxbos', 'xxpad', 'n62', 'd13', 'n57', 'd13',...</td>\n",
              "      <td>[   0    0    0    0 ... 1467 1467 1477 1477]</td>\n",
              "      <td>[   0    0    0    0 ... 1421 1421 1421 1421]</td>\n",
              "      <td>(['xxbos', 'xxpad', 'n69', 'd13', 'n65', 'd13'...</td>\n",
              "      <td>(['xxbos', 'xxpad', 'n62', 'd13', 'n57', 'd13'...</td>\n",
              "      <td>[[, xxbos, xxpad, n69, d13, n65, d13, xxsep, d...</td>\n",
              "      <td>[[, xxbos, xxpad, n62, d13, n57, d13, n50, d13...</td>\n",
              "      <td>[[, xxbos, xxpad, n69, d13, n65, d13, xxsep, d...</td>\n",
              "      <td>[[, xxbos, xxpad, n62, d13, n57, d13, n50, d13...</td>\n",
              "      <td>[[, xxbos, xxpad, n69, d13, n65, d13, xxsep, d...</td>\n",
              "      <td>[[, xxbos, xxpad, n62, d13, n57, d13, n50, d13...</td>\n",
              "      <td>[[, xxbos, xxpad, n69, d13, n65, d13, xxsep, d...</td>\n",
              "      <td>[[, xxbos, xxpad, n62, d13, n57, d13, n50, d13...</td>\n",
              "    </tr>\n",
              "    <tr>\n",
              "      <th>280</th>\n",
              "      <td>ty_september</td>\n",
              "      <td>['xxbos', 'xxpad', 'n74', 'd7', 'n62', 'd7', '...</td>\n",
              "      <td>['xxbos', 'xxpad', 'xxsep', 'd31', 'n55', 'd5'...</td>\n",
              "      <td>[   0    0    0    0 ... 1279 1279 1279 1279]</td>\n",
              "      <td>[   0    0    0    0 ... 1279 1279 1279 1279]</td>\n",
              "      <td>(['xxbos', 'xxpad', 'n74', 'd7', 'n62', 'd7', ...</td>\n",
              "      <td>(['xxbos', 'xxpad', 'xxsep', 'd31', 'n55', 'd5...</td>\n",
              "      <td>[[, xxbos, xxpad, n74, d7, n62, d7, xxsep, d7]...</td>\n",
              "      <td>[[, xxbos, xxpad, xxsep, d31], [], [], [], [],...</td>\n",
              "      <td>[[, xxbos, xxpad, n74, d7, n62, d7, xxsep, d7,...</td>\n",
              "      <td>[[, xxbos, xxpad, xxsep, d31], [], [n55, d5, n...</td>\n",
              "      <td>[[, xxbos, xxpad, n74, d7, n62, d7, xxsep, d7,...</td>\n",
              "      <td>[[, xxbos, xxpad, xxsep, d31, n55, d5, n47, d5...</td>\n",
              "      <td>[[, xxbos, xxpad, n74, d7, n62, d7, xxsep, d7,...</td>\n",
              "      <td>[[, xxbos, xxpad, xxsep, d31, n55, d5, n47, d5...</td>\n",
              "    </tr>\n",
              "    <tr>\n",
              "      <th>281</th>\n",
              "      <td>waldstein_1</td>\n",
              "      <td>['xxbos', 'xxpad', 'xxsep', 'd1', 'n52', 'd1',...</td>\n",
              "      <td>['xxbos', 'xxpad', 'n36', 'd1', 'xxsep', 'd1',...</td>\n",
              "      <td>[   0    0    0    0 ... 4946 4946 4946 4946]</td>\n",
              "      <td>[   0    0    0    0 ... 4946 4946 4946 4946]</td>\n",
              "      <td>(['xxbos', 'xxpad', 'xxsep', 'd1', 'n52', 'd1'...</td>\n",
              "      <td>(['xxbos', 'xxpad', 'n36', 'd1', 'xxsep', 'd1'...</td>\n",
              "      <td>[[, xxbos, xxpad, xxsep, d1, n52, d1, n48, d1,...</td>\n",
              "      <td>[[, xxbos, xxpad, n36, d1, xxsep, d1, n43, d1,...</td>\n",
              "      <td>[[, xxbos, xxpad, xxsep, d1, n52, d1, n48, d1,...</td>\n",
              "      <td>[[, xxbos, xxpad, n36, d1, xxsep, d1, n43, d1,...</td>\n",
              "      <td>[[, xxbos, xxpad, xxsep, d1, n52, d1, n48, d1,...</td>\n",
              "      <td>[[, xxbos, xxpad, n36, d1, xxsep, d1, n43, d1,...</td>\n",
              "      <td>[[, xxbos, xxpad, xxsep, d1, n52, d1, n48, d1,...</td>\n",
              "      <td>[[, xxbos, xxpad, n36, d1, xxsep, d1, n43, d1,...</td>\n",
              "    </tr>\n",
              "    <tr>\n",
              "      <th>282</th>\n",
              "      <td>waldstein_2</td>\n",
              "      <td>['xxbos', 'xxpad', 'xxsep', 'd12', 'n48', 'd9'...</td>\n",
              "      <td>['xxbos', 'xxpad', 'n41', 'd36', 'n29', 'd36',...</td>\n",
              "      <td>[   0    0    0    0 ... 1923 1923 1949 1949]</td>\n",
              "      <td>[   0    0    0    0 ... 1936 1936 1936 1936]</td>\n",
              "      <td>(['xxbos', 'xxpad', 'xxsep', 'd12', 'n48', 'd9...</td>\n",
              "      <td>(['xxbos', 'xxpad', 'n41', 'd36', 'n29', 'd36'...</td>\n",
              "      <td>[[, xxbos, xxpad, xxsep, d12], [], [], [n48, d...</td>\n",
              "      <td>[[, xxbos, xxpad, n41, d36, n29, d36, xxsep, d...</td>\n",
              "      <td>[[, xxbos, xxpad, xxsep, d12], [n48, d9, xxsep...</td>\n",
              "      <td>[[, xxbos, xxpad, n41, d36, n29, d36, xxsep, d...</td>\n",
              "      <td>[[, xxbos, xxpad, xxsep, d12, n48, d9, xxsep, ...</td>\n",
              "      <td>[[, xxbos, xxpad, n41, d36, n29, d36, xxsep, d...</td>\n",
              "      <td>[[, xxbos, xxpad, xxsep, d12, n48, d9, xxsep, ...</td>\n",
              "      <td>[[, xxbos, xxpad, n41, d36, n29, d36, xxsep, d...</td>\n",
              "    </tr>\n",
              "  </tbody>\n",
              "</table>\n",
              "<p>283 rows × 15 columns</p>\n",
              "</div>"
            ],
            "text/plain": [
              "             name  ...                                        left_sep_48\n",
              "0        DEB_CLAI  ...  [[, xxbos, xxpad, xxsep, d3, n68, d32, n65, d3...\n",
              "1        DEB_PASS  ...  [[, xxbos, xxpad, n42, d1, xxsep, d1, n49, d1,...\n",
              "2        alb_esp1  ...  [[, xxbos, xxpad, xxsep, d3, n57, d3, xxsep, d...\n",
              "3        alb_esp2  ...  [[, xxbos, xxpad, n50, d11, n38, d11, xxsep, d...\n",
              "4        alb_esp3  ...  [[, xxbos, xxpad, n59, d1, xxsep, d2, n63, d1,...\n",
              "..            ...  ...                                                ...\n",
              "278   ty_november  ...  [[, xxbos, xxpad, n61, d3, xxsep, d3, n59, d3,...\n",
              "279    ty_oktober  ...  [[, xxbos, xxpad, n62, d13, n57, d13, n50, d13...\n",
              "280  ty_september  ...  [[, xxbos, xxpad, xxsep, d31, n55, d5, n47, d5...\n",
              "281   waldstein_1  ...  [[, xxbos, xxpad, n36, d1, xxsep, d1, n43, d1,...\n",
              "282   waldstein_2  ...  [[, xxbos, xxpad, n41, d36, n29, d36, xxsep, d...\n",
              "\n",
              "[283 rows x 15 columns]"
            ]
          },
          "metadata": {
            "tags": []
          },
          "execution_count": 6
        }
      ]
    },
    {
      "cell_type": "code",
      "metadata": {
        "id": "kXlh4w24CHUP"
      },
      "source": [
        "df = df[['name','right_sep_48','left_sep_48']]"
      ],
      "execution_count": null,
      "outputs": []
    },
    {
      "cell_type": "code",
      "metadata": {
        "id": "-S4yF6ULPtCH"
      },
      "source": [
        "def clearBos(arr):\n",
        "\n",
        "    return [arr[0][3:]]+arr[1:]"
      ],
      "execution_count": null,
      "outputs": []
    },
    {
      "cell_type": "code",
      "metadata": {
        "id": "qV0PcqbJCIrw"
      },
      "source": [
        "def desSep(arr,d):\n",
        "\n",
        "    out = []\n",
        "    remain = 0\n",
        "    for j,c in enumerate(arr):\n",
        "        \n",
        "\n",
        "        tmp = []\n",
        "\n",
        "        if remain > 0:\n",
        "            tmp = ['xxsep'] + tmp\n",
        "            tmp = tmp + ['d' + str(min(remain,d))] \n",
        "            remain -= d\n",
        "            remain = max(0,remain)\n",
        "        if len(c) == 0:\n",
        "            out.append(tmp)\n",
        "            continue\n",
        "\n",
        "        count = 0\n",
        "        c = tmp + c \n",
        "        last_sep = int( c[-1][1:] )\n",
        "        for i in range(len(c[:-2])):\n",
        "            try:\n",
        "                if c[i] == 'xxsep':\n",
        "                    count += int( c[i+1][1:] )\n",
        "            except:\n",
        "                pass\n",
        "        new = d - count\n",
        "        remain += last_sep - new\n",
        "        if j==0 :\n",
        "          tmp += c[0:-2] + ['xxsep'] + ['d' + str(new)]\n",
        "        else:\n",
        "          tmp += c[2:-2] + ['xxsep'] + ['d' + str(new)]\n",
        "        out.append(tmp)\n",
        "    return out"
      ],
      "execution_count": null,
      "outputs": []
    },
    {
      "cell_type": "code",
      "metadata": {
        "id": "nabEH-IdLmw4"
      },
      "source": [
        "def check(arr):\n",
        "    count = 0\n",
        "    for i in range(len(arr)):\n",
        "        if arr[i] == 'xxsep':\n",
        "            count += int(arr[i+1][1:])\n",
        "    return count\n"
      ],
      "execution_count": null,
      "outputs": []
    },
    {
      "cell_type": "code",
      "metadata": {
        "colab": {
          "base_uri": "https://localhost:8080/"
        },
        "id": "XP0SSkxLtBXu",
        "outputId": "4e663dd1-ba5c-4c95-bddd-c8fe071970f4"
      },
      "source": [
        "df['right'] = df['right_sep_48'].apply(lambda x: desSep(clearBos(x),48))\n",
        "df['left'] = df['left_sep_48'].apply(lambda x: desSep(clearBos(x),48))"
      ],
      "execution_count": null,
      "outputs": [
        {
          "output_type": "stream",
          "text": [
            "/usr/local/lib/python3.7/dist-packages/ipykernel_launcher.py:2: SettingWithCopyWarning: \n",
            "A value is trying to be set on a copy of a slice from a DataFrame.\n",
            "Try using .loc[row_indexer,col_indexer] = value instead\n",
            "\n",
            "See the caveats in the documentation: https://pandas.pydata.org/pandas-docs/stable/user_guide/indexing.html#returning-a-view-versus-a-copy\n",
            "  \n"
          ],
          "name": "stderr"
        }
      ]
    },
    {
      "cell_type": "code",
      "metadata": {
        "colab": {
          "base_uri": "https://localhost:8080/"
        },
        "id": "KJTkay-MJWr8",
        "outputId": "833d34f3-c217-45d0-b9b6-c05414fc3176"
      },
      "source": [
        "for c in df.right.iloc[3]:\n",
        "  print(check(c))"
      ],
      "execution_count": null,
      "outputs": [
        {
          "output_type": "stream",
          "text": [
            "48\n",
            "48\n",
            "48\n",
            "48\n",
            "48\n",
            "48\n",
            "48\n",
            "48\n",
            "48\n",
            "48\n",
            "48\n",
            "48\n",
            "48\n",
            "48\n",
            "48\n",
            "48\n",
            "48\n",
            "48\n",
            "48\n",
            "48\n"
          ],
          "name": "stdout"
        }
      ]
    },
    {
      "cell_type": "code",
      "metadata": {
        "colab": {
          "base_uri": "https://localhost:8080/"
        },
        "id": "NToZldFOEhA7",
        "outputId": "1c9c11cd-22f9-4a51-859a-c6b6d367c0ac"
      },
      "source": [
        "for c in df.left.iloc[3]:\n",
        "  print(check(c))"
      ],
      "execution_count": null,
      "outputs": [
        {
          "output_type": "stream",
          "text": [
            "48\n",
            "48\n",
            "48\n",
            "48\n",
            "48\n",
            "48\n",
            "48\n",
            "48\n",
            "48\n",
            "48\n",
            "48\n",
            "48\n",
            "48\n",
            "48\n",
            "48\n",
            "48\n",
            "48\n",
            "48\n",
            "48\n",
            "48\n"
          ],
          "name": "stdout"
        }
      ]
    },
    {
      "cell_type": "code",
      "metadata": {
        "id": "o-PO5XTNOkSM"
      },
      "source": [
        "# df.to_csv('data_48_beat.csv',index=False)"
      ],
      "execution_count": null,
      "outputs": []
    },
    {
      "cell_type": "code",
      "metadata": {
        "id": "WmRNQb-jPYUh"
      },
      "source": [
        "import numpy as np\n",
        "from sklearn.model_selection import train_test_split"
      ],
      "execution_count": null,
      "outputs": []
    },
    {
      "cell_type": "code",
      "metadata": {
        "id": "cN8bEt0_D0ix"
      },
      "source": [
        "df, df_test = train_test_split(\n",
        "    df, test_size=0.15, random_state=42)\n"
      ],
      "execution_count": null,
      "outputs": []
    },
    {
      "cell_type": "code",
      "metadata": {
        "colab": {
          "base_uri": "https://localhost:8080/",
          "height": 35
        },
        "id": "DZWjZCtcoSdG",
        "outputId": "6360aea4-f09f-4e40-bbca-4a13f5340d06"
      },
      "source": [
        ""
      ],
      "execution_count": null,
      "outputs": [
        {
          "output_type": "execute_result",
          "data": {
            "application/vnd.google.colaboratory.intrinsic+json": {
              "type": "string"
            },
            "text/plain": [
              "'/content/drive/Shareddrives/NLPFinalProject/datasets'"
            ]
          },
          "metadata": {
            "tags": []
          },
          "execution_count": 24
        }
      ]
    },
    {
      "cell_type": "code",
      "metadata": {
        "id": "GPpiXNLtFIqg"
      },
      "source": [
        "rights = df.right.tolist()\n",
        "lefts = df.left.tolist()"
      ],
      "execution_count": null,
      "outputs": []
    },
    {
      "cell_type": "code",
      "metadata": {
        "id": "-5KaaAuwFxK0"
      },
      "source": [
        "out_right = []\n",
        "out_left = []\n",
        "\n",
        "for i in range(len(rights)):\n",
        "  right = rights[i]\n",
        "  left = lefts[i]\n",
        "\n",
        "  max_len = min(len(right),len(left))\n",
        "\n",
        "  right = right[:max_len]\n",
        "  left = left[:max_len]  \n",
        "\n",
        "  out_right += right\n",
        "  out_left += left\n",
        "\n",
        "out_right = [\" \".join(e) for e in out_right]\n",
        "out_left = [\" \".join(e) for e in out_left]"
      ],
      "execution_count": null,
      "outputs": []
    },
    {
      "cell_type": "code",
      "metadata": {
        "id": "uuJavrk3Gqu3"
      },
      "source": [
        "out_right_train, out_right_test,out_left_train, out_left_test = train_test_split(\n",
        "    out_right,out_left, test_size=0.2, random_state=42)"
      ],
      "execution_count": null,
      "outputs": []
    },
    {
      "cell_type": "code",
      "metadata": {
        "colab": {
          "base_uri": "https://localhost:8080/"
        },
        "id": "llOxR0xdFJqf",
        "outputId": "6296d7bb-0f44-491d-ccaa-1721e80dd1d9"
      },
      "source": [
        "len(out_right_train)"
      ],
      "execution_count": null,
      "outputs": [
        {
          "output_type": "execute_result",
          "data": {
            "text/plain": [
              "4496"
            ]
          },
          "metadata": {
            "tags": []
          },
          "execution_count": 93
        }
      ]
    },
    {
      "cell_type": "code",
      "metadata": {
        "id": "sI86rWG-FdT0"
      },
      "source": [
        "with open('src-train.txt', 'w') as f:\n",
        "    for item in out_right_train:\n",
        "        f.write(\"%s\\n\" % item)\n",
        "\n",
        "with open('src-val.txt', 'w') as f:\n",
        "    for item in out_right_test:\n",
        "        f.write(\"%s\\n\" % item)\n",
        "\n",
        "with open('tgt-train.txt', 'w') as f:\n",
        "    for item in out_left_train:\n",
        "        f.write(\"%s\\n\" % item)\n",
        "\n",
        "with open('tgt-test.txt', 'w') as f:\n",
        "    for item in out_left_test:\n",
        "        f.write(\"%s\\n\" % item)"
      ],
      "execution_count": null,
      "outputs": []
    },
    {
      "cell_type": "code",
      "metadata": {
        "colab": {
          "base_uri": "https://localhost:8080/",
          "height": 181
        },
        "id": "xXnvOJVyJI-x",
        "outputId": "b9965eb7-af24-407a-eb9e-8a2a4cbf9047"
      },
      "source": [
        "import os\n",
        "os.mkdir('test')"
      ],
      "execution_count": null,
      "outputs": [
        {
          "output_type": "error",
          "ename": "FileExistsError",
          "evalue": "ignored",
          "traceback": [
            "\u001b[0;31m---------------------------------------------------------------------------\u001b[0m",
            "\u001b[0;31mFileExistsError\u001b[0m                           Traceback (most recent call last)",
            "\u001b[0;32m<ipython-input-16-e0dad0d1dd31>\u001b[0m in \u001b[0;36m<module>\u001b[0;34m()\u001b[0m\n\u001b[1;32m      1\u001b[0m \u001b[0;32mimport\u001b[0m \u001b[0mos\u001b[0m\u001b[0;34m\u001b[0m\u001b[0;34m\u001b[0m\u001b[0m\n\u001b[0;32m----> 2\u001b[0;31m \u001b[0mos\u001b[0m\u001b[0;34m.\u001b[0m\u001b[0mmkdir\u001b[0m\u001b[0;34m(\u001b[0m\u001b[0;34m'test'\u001b[0m\u001b[0;34m)\u001b[0m\u001b[0;34m\u001b[0m\u001b[0;34m\u001b[0m\u001b[0m\n\u001b[0m",
            "\u001b[0;31mFileExistsError\u001b[0m: [Errno 17] File exists: 'test'"
          ]
        }
      ]
    },
    {
      "cell_type": "code",
      "metadata": {
        "colab": {
          "base_uri": "https://localhost:8080/"
        },
        "id": "vzPGD18Dov07",
        "outputId": "d0d9597e-b11e-46cf-c45e-9c69e3cd3962"
      },
      "source": [
        "%cd test"
      ],
      "execution_count": null,
      "outputs": [
        {
          "output_type": "stream",
          "text": [
            "/content/drive/Shareddrives/NLPFinalProject/datasets/test\n"
          ],
          "name": "stdout"
        }
      ]
    },
    {
      "cell_type": "code",
      "metadata": {
        "id": "L5LYk7Mrowwu"
      },
      "source": [
        "for i,row in df_test.iterrows():\n",
        "  right = row['right']\n",
        "  left = row['left']\n",
        "\n",
        "  min_len = min(len(right),len(left))\n",
        "\n",
        "  right = right[:min_len]\n",
        "  left = left[:min_len]\n",
        "\n",
        "\n",
        "  right = [\" \".join(e) for e in right]\n",
        "  left = [\" \".join(e) for e in left]\n",
        "\n",
        "  with open('right/'+str(row['name'])+'.txt', 'w') as f:\n",
        "      for item in right:\n",
        "          f.write(\"%s\\n\" % item)\n",
        "\n",
        "  with open('left/'+str(row['name'])+'.txt', 'w') as f:\n",
        "      for item in left:\n",
        "          f.write(\"%s\\n\" % item)"
      ],
      "execution_count": null,
      "outputs": []
    },
    {
      "cell_type": "code",
      "metadata": {
        "colab": {
          "base_uri": "https://localhost:8080/",
          "height": 130
        },
        "id": "AzIw1JgUox9d",
        "outputId": "d67e15ad-5e19-4d68-fccf-bf8839c1b98d"
      },
      "source": [
        "with open(str(row['name']+'_right.txt', 'w') as f:\n",
        "      for item in right:\n",
        "          f.write(\"%s\\n\" % item)\n"
      ],
      "execution_count": null,
      "outputs": [
        {
          "output_type": "error",
          "ename": "SyntaxError",
          "evalue": "ignored",
          "traceback": [
            "\u001b[0;36m  File \u001b[0;32m\"<ipython-input-34-fdacf1eb6aa6>\"\u001b[0;36m, line \u001b[0;32m1\u001b[0m\n\u001b[0;31m    with open(str(row['name']+'_right.txt', 'w') as f:\u001b[0m\n\u001b[0m                                                  ^\u001b[0m\n\u001b[0;31mSyntaxError\u001b[0m\u001b[0;31m:\u001b[0m invalid syntax\n"
          ]
        }
      ]
    },
    {
      "cell_type": "code",
      "metadata": {
        "id": "Bzxzmtpfqrge"
      },
      "source": [
        "bashCommand = \"cwm --rdf test.rdf --ntriples > test.nt\"\n",
        "import subprocess\n",
        "process = subprocess.Popen(bashCommand.split(), stdout=subprocess.PIPE)\n",
        "output, error = process.communicate()"
      ],
      "execution_count": null,
      "outputs": []
    }
  ]
}